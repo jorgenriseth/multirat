{
 "cells": [
  {
   "cell_type": "code",
   "execution_count": 16,
   "id": "e5c335b0",
   "metadata": {},
   "outputs": [],
   "source": [
    "from dolfin import Constant\n",
    "from numpy import linspace, ceil\n",
    "\n",
    "\n",
    "class TimeKeeper(Constant):\n",
    "    def __init__(self, dt, endtime):\n",
    "        self.iter = 0\n",
    "        self.dt = dt\n",
    "        self.endtime = endtime\n",
    "        super().__init__(0.0)\n",
    "\n",
    "\n",
    "    def progress(self):\n",
    "        self.t += self.dt\n",
    "        self.iter += 1\n",
    "\n",
    "    def is_valid(self):\n",
    "        return float(self.t) <= self.endtime\n",
    "\n",
    "    def reset(self):\n",
    "        self.assign(0.0)\n",
    "        self.iter = 0\n",
    "\n",
    "    def get_vector(self):\n",
    "        return linspace(0, (len(self) - 1)* self.dt, len(self))\n",
    "\n",
    "    def __len__(self):\n",
    "        return int(ceil(self.endtime / self.dt) + 1)\n"
   ]
  },
  {
   "cell_type": "code",
   "execution_count": 17,
   "id": "0b7e70e0",
   "metadata": {},
   "outputs": [],
   "source": [
    "time = TimeKeeper(0.1, 1.0)"
   ]
  },
  {
   "cell_type": "code",
   "execution_count": 18,
   "id": "bf69ba60",
   "metadata": {},
   "outputs": [
    {
     "data": {
      "text/plain": [
       "array([0. , 0.1, 0.2, 0.3, 0.4, 0.5, 0.6, 0.7, 0.8, 0.9, 1. ])"
      ]
     },
     "execution_count": 18,
     "metadata": {},
     "output_type": "execute_result"
    }
   ],
   "source": [
    "time.get_vector()"
   ]
  }
 ],
 "metadata": {
  "kernelspec": {
   "display_name": "Python 3 (ipykernel)",
   "language": "python",
   "name": "python3"
  },
  "language_info": {
   "codemirror_mode": {
    "name": "ipython",
    "version": 3
   },
   "file_extension": ".py",
   "mimetype": "text/x-python",
   "name": "python",
   "nbconvert_exporter": "python",
   "pygments_lexer": "ipython3",
   "version": "3.11.0"
  }
 },
 "nbformat": 4,
 "nbformat_minor": 5
}
