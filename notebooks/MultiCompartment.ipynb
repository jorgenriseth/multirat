{
 "cells": [
  {
   "cell_type": "code",
   "execution_count": 1,
   "id": "41ace092",
   "metadata": {},
   "outputs": [],
   "source": [
    "%load_ext autoreload\n",
    "%autoreload 2"
   ]
  },
  {
   "cell_type": "code",
   "execution_count": 7,
   "id": "f13c5e6d",
   "metadata": {},
   "outputs": [],
   "source": [
    "from itertools import permutations\n",
    "from pathlib import Path\n",
    "from dolfin import *\n",
    "import matplotlib.pyplot as plt\n",
    "import numpy as np\n",
    "\n",
    "\n",
    "from multirat.multicompartment import *"
   ]
  },
  {
   "cell_type": "code",
   "execution_count": 6,
   "id": "f5afd847",
   "metadata": {},
   "outputs": [],
   "source": [
    "from multirat.meshprocessing import Domain\n",
    "from multirat.parameters import multicompartment_parameters\n",
    "from multirat.boundary import DirichletBoundary, RobinBoundary\n",
    "\n",
    "def create_mesh(n, x0=-1., y0=-1., x1=1., y1=1.):\n",
    "    return Domain(\n",
    "        mesh=RectangleMesh(Point(x0, y0), Point(x1, y1), n, n),\n",
    "        subdomains=None,\n",
    "        boundaries=None,\n",
    "    )"
   ]
  },
  {
   "cell_type": "code",
   "execution_count": 4,
   "id": "98ba8363",
   "metadata": {},
   "outputs": [
    {
     "ename": "NameError",
     "evalue": "name 'pressure_functionspace' is not defined",
     "output_type": "error",
     "traceback": [
      "\u001b[0;31m---------------------------------------------------------------------------\u001b[0m",
      "\u001b[0;31mNameError\u001b[0m                                 Traceback (most recent call last)",
      "Cell \u001b[0;32mIn [4], line 5\u001b[0m\n\u001b[1;32m      2\u001b[0m params \u001b[38;5;241m=\u001b[39m multicompartment_parameters(compartments)\n\u001b[1;32m      4\u001b[0m domain \u001b[38;5;241m=\u001b[39m create_mesh(\u001b[38;5;241m40\u001b[39m)\n\u001b[0;32m----> 5\u001b[0m V \u001b[38;5;241m=\u001b[39m \u001b[43mpressure_functionspace\u001b[49m(domain\u001b[38;5;241m.\u001b[39mmesh, degree\u001b[38;5;241m=\u001b[39m\u001b[38;5;241m1\u001b[39m, compartments\u001b[38;5;241m=\u001b[39mcompartments)\n\u001b[1;32m      7\u001b[0m \u001b[38;5;66;03m# Boundary conditions\u001b[39;00m\n\u001b[1;32m      8\u001b[0m L_bdry \u001b[38;5;241m=\u001b[39m params[\u001b[38;5;124m\"\u001b[39m\u001b[38;5;124mhydraulic_conductivity_bdry\u001b[39m\u001b[38;5;124m\"\u001b[39m]\n",
      "\u001b[0;31mNameError\u001b[0m: name 'pressure_functionspace' is not defined"
     ]
    }
   ],
   "source": [
    "compartments = ['ecs', 'pvs_arteries', 'pvs_capillaries', 'pvs_veins']\n",
    "params = multicompartment_parameters(compartments)\n",
    "\n",
    "domain = create_mesh(40)\n",
    "V = pressure_functionspace(domain.mesh, degree=1, compartments=compartments)\n",
    "\n",
    "# Boundary conditions\n",
    "L_bdry = params[\"hydraulic_conductivity_bdry\"]\n",
    "p_bdry = params[\"pressure_boundaries\"]\n",
    "boundaries = {\n",
    "    \"ecs\": [RobinBoundary(L_bdry[\"ecs\"], p_bdry[\"ecs\"], \"everywhere\")],\n",
    "    \"pvs_arteries\": [RobinBoundary(L_bdry[\"pvs_arteries\"], p_bdry[\"pvs_arteries\"], \"everywhere\")],\n",
    "    \"pvs_capillaries\": [],\n",
    "    \"pvs_veins\": [DirichletBoundary(p_bdry[\"pvs_veins\"], \"everywhere\")],\n",
    "}\n",
    "\n",
    "results_path = Path(\"../results/pressure\").resolve()\n",
    "p = solve_pressure(domain, V, compartments, boundaries, params)\n",
    "store_pressure(results_path, p, compartments, store_xdmf=True)\n",
    "\n",
    "\n",
    "solute_bcs = {\n",
    "    \"ecs\": [DirichletBoundary(Constant(0.0), \"everywhere\")],\n",
    "    \"pvs_arteries\": [DirichletBoundary(Constant(0.0), \"everywhere\")],\n",
    "    \"pvs_capillaries\": [DirichletBoundary(Constant(0.0), \"everywhere\")],\n",
    "    \"pvs_veins\": [DirichletBoundary(Constant(0.0), \"everywhere\")],\n",
    "}\n",
    "\n",
    "dt  = 600  # 10min timestep.\n",
    "T = 1 * 3600 # 4h\n",
    "N = int(T / dt) + 1\n",
    "\n",
    "c_init = Expression(\"exp(-(pow(x[0] - c[0], 2) + pow(x[1]-c[1], 2)) / (length * length))\",\n",
    "                    length=Constant(0.4), c=Constant((0.5, 0.0)), degree=2)\n",
    "\n",
    "c0 = Function(V)\n",
    "assign(c0.sub(0), project(c_init, V.sub(0).collapse()))\n",
    "\n",
    "\n",
    "times = np.array([dt * i for i in range(N)])\n",
    "C, mass = solve_solute(c0, p, dt, T, domain, V, compartments, solute_bcs, params)\n",
    "\n",
    "plt.figure()\n",
    "plt.plot(times, mass, \"o-\")\n",
    "plt.show()"
   ]
  },
  {
   "cell_type": "code",
   "execution_count": null,
   "id": "d0d95c9c",
   "metadata": {},
   "outputs": [],
   "source": []
  }
 ],
 "metadata": {
  "kernelspec": {
   "display_name": "Python 3 (ipykernel)",
   "language": "python",
   "name": "python3"
  },
  "language_info": {
   "codemirror_mode": {
    "name": "ipython",
    "version": 3
   },
   "file_extension": ".py",
   "mimetype": "text/x-python",
   "name": "python",
   "nbconvert_exporter": "python",
   "pygments_lexer": "ipython3",
   "version": "3.11.0"
  }
 },
 "nbformat": 4,
 "nbformat_minor": 5
}
