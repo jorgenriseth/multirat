{
 "cells": [
  {
   "cell_type": "code",
   "execution_count": 2,
   "id": "2c0c09da",
   "metadata": {},
   "outputs": [
    {
     "name": "stdout",
     "output_type": "stream",
     "text": [
      "The autoreload extension is already loaded. To reload it, use:\n",
      "  %reload_ext autoreload\n"
     ]
    }
   ],
   "source": [
    "%load_ext autoreload\n",
    "%autoreload 2"
   ]
  },
  {
   "cell_type": "markdown",
   "id": "a58e781a",
   "metadata": {},
   "source": [
    "# Mesh Information\n",
    "In this notebook we investigate the properties of the different meshes. Of main interest is the minimum and maximum cell size for each of the different resolutions."
   ]
  },
  {
   "cell_type": "code",
   "execution_count": 4,
   "id": "6bed89c0",
   "metadata": {},
   "outputs": [],
   "source": [
    "import numpy as np\n",
    "import matplotlib.pyplot as plt\n",
    "import dolfin\n",
    "from multirat import *\n",
    "from pathlib import Path\n",
    "from dolfin import assemble, dx, Expression, Constant\n",
    "domain = hdf2fenics(f\"{MESH_DIR}/mesh{res}.h5\", pack=True)"
   ]
  },
  {
   "cell_type": "code",
   "execution_count": 15,
   "id": "d5dcc917",
   "metadata": {},
   "outputs": [
    {
     "name": "stdout",
     "output_type": "stream",
     "text": [
      "\t8  &  0.604  &  4.598  \\\\\n",
      "\t16  &  0.265  &  2.374  \\\\\n",
      "\t32  &  0.154  &  1.190  \\\\\n",
      "\t64  &  0.073  &  0.622  \\\\\n"
     ]
    }
   ],
   "source": [
    "resolutions = [8, 16, 32, 64]\n",
    "\n",
    "for res in resolutions:\n",
    "    domain = hdf2fenics(f\"{MESH_DIR}/mesh{res}.h5\", pack=True)\n",
    "    print(f\"\\t{res}  &  {domain.mesh.hmin():.3f}  &  {domain.mesh.hmax():.3f}  \\\\\\\\\")"
   ]
  }
 ],
 "metadata": {
  "kernelspec": {
   "display_name": "Python 3 (ipykernel)",
   "language": "python",
   "name": "python3"
  },
  "language_info": {
   "codemirror_mode": {
    "name": "ipython",
    "version": 3
   },
   "file_extension": ".py",
   "mimetype": "text/x-python",
   "name": "python",
   "nbconvert_exporter": "python",
   "pygments_lexer": "ipython3",
   "version": "3.10.5"
  }
 },
 "nbformat": 4,
 "nbformat_minor": 5
}
