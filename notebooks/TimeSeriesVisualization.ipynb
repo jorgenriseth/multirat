{
 "cells": [
  {
   "cell_type": "markdown",
   "id": "10e5e1cb",
   "metadata": {},
   "source": [
    "# Pyvista + TimeSeriesStorage\n",
    "\n",
    "Want to find a nice way to work with time-dependent data visualization in a jupyter notebook. Will be using a pyvistaqt BackgroundPlotter, which should read data directly from and hdf5 file with all time-dependent data."
   ]
  },
  {
   "cell_type": "code",
   "execution_count": 4,
   "id": "6065f9e3",
   "metadata": {},
   "outputs": [],
   "source": [
    "from time import sleep"
   ]
  },
  {
   "cell_type": "code",
   "execution_count": 10,
   "id": "7e9ef514",
   "metadata": {},
   "outputs": [
    {
     "ename": "NameError",
     "evalue": "name 'BackgroundPlotter' is not defined",
     "output_type": "error",
     "traceback": [
      "\u001b[0;31m---------------------------------------------------------------------------\u001b[0m",
      "\u001b[0;31mNameError\u001b[0m                                 Traceback (most recent call last)",
      "Cell \u001b[0;32mIn [10], line 1\u001b[0m\n\u001b[0;32m----> 1\u001b[0m \u001b[38;5;28;01mdef\u001b[39;00m \u001b[38;5;21mvisualize_timedependent\u001b[39m(hdf5file, pl: \u001b[43mBackgroundPlotter\u001b[49m):\n\u001b[1;32m      2\u001b[0m     time \u001b[38;5;241m=\u001b[39m read_time(hdf5file)\n\u001b[1;32m      3\u001b[0m     mesh \u001b[38;5;241m=\u001b[39m read_mesh(hdf5file)\n",
      "\u001b[0;31mNameError\u001b[0m: name 'BackgroundPlotter' is not defined"
     ]
    }
   ],
   "source": [
    "def visualize_timedependent(hdf5file, pl: BackgroundPlotter):\n",
    "    time = read_time(hdf5file)\n",
    "    mesh = read_mesh(hdf5file)\n",
    "    u = read_function(hf5file, name, 0.0)\n",
    "    \n",
    "    pyvis(mesh)\n",
    "    pl.add_mesh()\n",
    "    \n",
    "    timer = PyvisTimer()\n",
    "    for ti in time:\n",
    "        timer.wait(ti)\n",
    "        update_scalar(u, pl)\n",
    "        update_text(ti, pl)"
   ]
  },
  {
   "cell_type": "code",
   "execution_count": 11,
   "id": "2e315619",
   "metadata": {},
   "outputs": [],
   "source": [
    "from dolfin import *\n",
    "import pyvista as pv\n",
    "import pyvistaqt as pvqt\n",
    "from pathlib import Path\n",
    "import numpy as np"
   ]
  },
  {
   "cell_type": "code",
   "execution_count": 12,
   "id": "e4ed63e8",
   "metadata": {},
   "outputs": [],
   "source": [
    "from dolfin import *\n",
    "import pyvista as pv\n",
    "import pyvistaqt as pvqt\n",
    "from pathlib import Path\n",
    "import numpy as np\n",
    "\n",
    "path = Path(\"../pyvistualizer\").resolve() / \"pyvistualier.h5\"\n",
    "mesh = RectangleMesh(Point(-1, -1), Point(1, 1), 10, 10)\n",
    "V = FunctionSpace(mesh, \"CG\", 1)\n",
    "el = V.element()\n",
    "sig = el.signature() \n",
    "t = Constant(0.)\n",
    "u = Expression(\n",
    "    \"exp(-(pow(x[0], 2) + pow(x[1], 2)) / (0.25 * (1.0+t*t))) /(1.0+t*t)\",\n",
    "    t=t, degree=1\n",
    ")\n",
    "u.rename(\"u\", \"\")\n",
    "dt = 0.1"
   ]
  },
  {
   "cell_type": "code",
   "execution_count": null,
   "id": "7917272d",
   "metadata": {},
   "outputs": [],
   "source": [
    "def encode_signature(signature: str, mpiwrapper):\n",
    "    arr = np.array(bytearray(signature.encode()))\n",
    "    petv = PETScVector(mpiwrapper, arr.size)\n",
    "    petv[:] = arr\n",
    "    return petv\n",
    "\n",
    "def decode_signature(petv: PETScVector):\n",
    "    return bytearray(petv[:].astype(np.uint8)).decode()"
   ]
  },
  {
   "cell_type": "code",
   "execution_count": 3,
   "id": "c905c633",
   "metadata": {},
   "outputs": [],
   "source": [
    "with HDF5File(mesh.mpi_comm(), str(path), \"w\") as f:\n",
    "    f.write(encode_signature(sig, mesh.mpi_comm()), '/element')\n",
    "    f.write(mesh, \"/mesh\")\n",
    "    name = u.name()\n",
    "    for idx, _ in enumerate(range(10)):\n",
    "        uh = project(u, V)\n",
    "        t.assign(t+dt)\n",
    "        f.write(uh.vector(), f\"/{name}/{name}_{idx}\")"
   ]
  },
  {
   "cell_type": "code",
   "execution_count": 4,
   "id": "7125b446",
   "metadata": {},
   "outputs": [],
   "source": [
    "mesh = Mesh()\n",
    "petv = PETScVector(mesh.mpi_comm())\n",
    "with HDF5File(mesh.mpi_comm(), str(path), \"r\") as f:\n",
    "    f.read(mesh, \"/mesh\", True)\n",
    "    f.read(petv, \"/element\", True)\n",
    "    el = eval(decode_signature(petv))\n",
    "    V = FunctionSpace(mesh, el)\n",
    "    u0 = Function(V)\n",
    "    f.read(u0.vector(), f\"/{u.name()}/{u.name()}_5\", True)\n",
    "    "
   ]
  },
  {
   "cell_type": "code",
   "execution_count": 5,
   "id": "82711497",
   "metadata": {},
   "outputs": [],
   "source": [
    "import matplotlib.pyplot as plt"
   ]
  },
  {
   "cell_type": "code",
   "execution_count": 13,
   "id": "ddc05f01",
   "metadata": {},
   "outputs": [
    {
     "ename": "NameError",
     "evalue": "name 'u0' is not defined",
     "output_type": "error",
     "traceback": [
      "\u001b[0;31m---------------------------------------------------------------------------\u001b[0m",
      "\u001b[0;31mNameError\u001b[0m                                 Traceback (most recent call last)",
      "Cell \u001b[0;32mIn [13], line 1\u001b[0m\n\u001b[0;32m----> 1\u001b[0m c \u001b[38;5;241m=\u001b[39m plot(\u001b[43mu0\u001b[49m, vmax\u001b[38;5;241m=\u001b[39m\u001b[38;5;241m1\u001b[39m)\n\u001b[1;32m      2\u001b[0m plt\u001b[38;5;241m.\u001b[39mcolorbar(c)\n",
      "\u001b[0;31mNameError\u001b[0m: name 'u0' is not defined"
     ]
    }
   ],
   "source": [
    "c = plot(u0, vmax=1)\n",
    "plt.colorbar(c)"
   ]
  },
  {
   "cell_type": "code",
   "execution_count": 58,
   "id": "35bf7489",
   "metadata": {},
   "outputs": [],
   "source": [
    "def find_nearest(array,value):\n",
    "    # Might be useful for future timeline widghet\n",
    "    idx = np.searchsorted(array, value, side=\"left\")\n",
    "    if idx > 0 and (idx == len(array) or math.fabs(value - array[idx-1]) < math.fabs(value - array[idx])):\n",
    "        return array[idx-1]\n",
    "    else:\n",
    "        return array[idx]"
   ]
  },
  {
   "cell_type": "code",
   "execution_count": 59,
   "id": "6f49cfea",
   "metadata": {},
   "outputs": [
    {
     "ename": "AttributeError",
     "evalue": "'function' object has no attribute 'create_vtk_mesh'",
     "output_type": "error",
     "traceback": [
      "\u001b[0;31m---------------------------------------------------------------------------\u001b[0m",
      "\u001b[0;31mAttributeError\u001b[0m                            Traceback (most recent call last)",
      "Cell \u001b[0;32mIn [59], line 4\u001b[0m\n\u001b[1;32m      1\u001b[0m \u001b[38;5;28;01mimport\u001b[39;00m \u001b[38;5;21;01mpyvista\u001b[39;00m\n\u001b[1;32m      2\u001b[0m pyvista\u001b[38;5;241m.\u001b[39mset_jupyter_backend(\u001b[38;5;124m\"\u001b[39m\u001b[38;5;124mipygany\u001b[39m\u001b[38;5;124m\"\u001b[39m)\n\u001b[0;32m----> 4\u001b[0m grid \u001b[38;5;241m=\u001b[39m pyvista\u001b[38;5;241m.\u001b[39mUnstructuredGrid(\u001b[38;5;241m*\u001b[39m\u001b[43mplot\u001b[49m\u001b[38;5;241;43m.\u001b[39;49m\u001b[43mcreate_vtk_mesh\u001b[49m(V))\n\u001b[1;32m      6\u001b[0m \u001b[38;5;28;01mdef\u001b[39;00m \u001b[38;5;21mplot_function\u001b[39m(t, uh):\n\u001b[1;32m      7\u001b[0m     \u001b[38;5;124;03m\"\"\"\u001b[39;00m\n\u001b[1;32m      8\u001b[0m \u001b[38;5;124;03m    Create a figure of the concentration uh warped visualized in 3D at timet step t.\u001b[39;00m\n\u001b[1;32m      9\u001b[0m \u001b[38;5;124;03m    \"\"\"\u001b[39;00m\n",
      "\u001b[0;31mAttributeError\u001b[0m: 'function' object has no attribute 'create_vtk_mesh'"
     ]
    }
   ],
   "source": [
    "import pyvista\n",
    "pyvista.set_jupyter_backend(\"ipygany\")\n",
    "grid = pyvista.UnstructuredGrid(*plot.create_vtk_mesh(V))\n",
    "def plot_function(t, uh):\n",
    "    \"\"\"\n",
    "    Create a figure of the concentration uh warped visualized in 3D at timet step t.\n",
    "    \"\"\"\n",
    "    p = pyvista.Plotter()\n",
    "    # Update point values on pyvista grid\n",
    "    grid.point_data[f\"u({t})\"] = uh.x.array.real\n",
    "    # Warp mesh by point values\n",
    "    warped = grid.warp_by_scalar(f\"u({t})\", factor=1.5)\n",
    "\n",
    "    # Add mesh to plotter and visualize in notebook or save as figure\n",
    "    actor = p.add_mesh(warped)\n",
    "    if not pyvista.OFF_SCREEN:\n",
    "       p.show()\n",
    "    else:\n",
    "        pyvista.start_xvfb()\n",
    "        figure_as_array = p.screenshot(f\"diffusion_{t:.2f}.png\")\n",
    "        # Clear plotter for next plot\n",
    "        p.remove_actor(actor)\n",
    "plot_function(0, uh)"
   ]
  },
  {
   "cell_type": "code",
   "execution_count": null,
   "id": "d9e4217f",
   "metadata": {},
   "outputs": [],
   "source": []
  }
 ],
 "metadata": {
  "kernelspec": {
   "display_name": "Python 3 (ipykernel)",
   "language": "python",
   "name": "python3"
  },
  "language_info": {
   "codemirror_mode": {
    "name": "ipython",
    "version": 3
   },
   "file_extension": ".py",
   "mimetype": "text/x-python",
   "name": "python",
   "nbconvert_exporter": "python",
   "pygments_lexer": "ipython3",
   "version": "3.11.0"
  }
 },
 "nbformat": 4,
 "nbformat_minor": 5
}
