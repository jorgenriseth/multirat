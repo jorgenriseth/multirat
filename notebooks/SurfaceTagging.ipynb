{
 "cells": [
  {
   "cell_type": "code",
   "execution_count": 4,
   "id": "46c6e9fb",
   "metadata": {},
   "outputs": [],
   "source": [
    "import pyvista as pv\n",
    "cube = pv.Cube()\n",
    "def callback(point):\n",
    "    \"\"\"Create a cube and a label at the click point.\"\"\"\n",
    "    mesh = pv.Cube(center=point, x_length=0.05, y_length=0.05, z_length=0.05)\n",
    "    pl.add_mesh(mesh, style='wireframe', color='r')\n",
    "    pl.add_point_labels(point, [f\"{point[0]:.2f}, {point[1]:.2f}, {point[2]:.2f}\"])\n",
    "\n",
    "\n",
    "pl = pv.Plotter(notebook=False)\n",
    "pl.add_mesh(cube, show_edges=True)\n",
    "pl.enable_cell_picking()\n",
    "pl.show()"
   ]
  },
  {
   "cell_type": "code",
   "execution_count": 2,
   "id": "a0c63b3c",
   "metadata": {},
   "outputs": [
    {
     "data": {
      "application/vnd.jupyter.widget-view+json": {
       "model_id": "a84f9ea3bc214ddba015e35aef26e764",
       "version_major": 2,
       "version_minor": 0
      },
      "text/plain": [
       "ViewInteractiveWidget(height=768, layout=Layout(height='auto', width='100%'), width=1024)"
      ]
     },
     "metadata": {},
     "output_type": "display_data"
    }
   ],
   "source": [
    "sphere = pv.Sphere()\n",
    "\n",
    "p = pv.Plotter()\n",
    "p.add_mesh(sphere, pickable=True)\n",
    "p.enable_point_picking()\n",
    "p.show()"
   ]
  },
  {
   "cell_type": "code",
   "execution_count": null,
   "id": "11e603b8",
   "metadata": {},
   "outputs": [],
   "source": []
  }
 ],
 "metadata": {
  "kernelspec": {
   "display_name": "Python 3 (ipykernel)",
   "language": "python",
   "name": "python3"
  },
  "language_info": {
   "codemirror_mode": {
    "name": "ipython",
    "version": 3
   },
   "file_extension": ".py",
   "mimetype": "text/x-python",
   "name": "python",
   "nbconvert_exporter": "python",
   "pygments_lexer": "ipython3",
   "version": "3.11.0"
  }
 },
 "nbformat": 4,
 "nbformat_minor": 5
}
