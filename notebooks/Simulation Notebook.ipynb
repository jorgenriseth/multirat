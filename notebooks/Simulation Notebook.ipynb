{
 "cells": [
  {
   "cell_type": "code",
   "execution_count": 1,
   "id": "6c396649",
   "metadata": {},
   "outputs": [],
   "source": [
    "%load_ext autoreload\n",
    "%autoreload 2"
   ]
  },
  {
   "cell_type": "code",
   "execution_count": 6,
   "id": "a3ed340e",
   "metadata": {},
   "outputs": [],
   "source": [
    "import numpy as np\n",
    "import matplotlib.pyplot as plt\n",
    "import time as pytime\n",
    "from pathlib import Path\n",
    "\n",
    "from dolfin import *\n",
    "from multirat import *\n",
    "# from multirat.parameters import PARAMS\n",
    "import multirat.base.projectors as projectors\n",
    "import multirat.base"
   ]
  },
  {
   "cell_type": "code",
   "execution_count": 7,
   "id": "3870cf7c",
   "metadata": {},
   "outputs": [],
   "source": [
    "MESH_DIR = Path(\"../mesh\").resolve()\n",
    "RESULTS_DIR = Path(\"../results\").resolve()"
   ]
  },
  {
   "cell_type": "markdown",
   "id": "dc5b54f7",
   "metadata": {},
   "source": [
    "## Homogeneous "
   ]
  },
  {
   "cell_type": "code",
   "execution_count": 8,
   "id": "8ec2e7e5",
   "metadata": {},
   "outputs": [
    {
     "ename": "NameError",
     "evalue": "name 'TimeKeeper' is not defined",
     "output_type": "error",
     "traceback": [
      "\u001b[0;31m---------------------------------------------------------------------------\u001b[0m",
      "\u001b[0;31mNameError\u001b[0m                                 Traceback (most recent call last)",
      "Cell \u001b[0;32mIn [8], line 5\u001b[0m\n\u001b[1;32m      3\u001b[0m T \u001b[38;5;241m=\u001b[39m \u001b[38;5;241m3600.\u001b[39m\n\u001b[1;32m      4\u001b[0m res \u001b[38;5;241m=\u001b[39m \u001b[38;5;241m32\u001b[39m\n\u001b[0;32m----> 5\u001b[0m time \u001b[38;5;241m=\u001b[39m \u001b[43mTimeKeeper\u001b[49m(dt, T)\n\u001b[1;32m      6\u001b[0m domain \u001b[38;5;241m=\u001b[39m hdf2fenics(\u001b[38;5;124mf\u001b[39m\u001b[38;5;124m\"\u001b[39m\u001b[38;5;132;01m{\u001b[39;00mMESH_DIR\u001b[38;5;132;01m}\u001b[39;00m\u001b[38;5;124m/mesh\u001b[39m\u001b[38;5;132;01m{\u001b[39;00mres\u001b[38;5;132;01m}\u001b[39;00m\u001b[38;5;124m.h5\u001b[39m\u001b[38;5;124m\"\u001b[39m, pack\u001b[38;5;241m=\u001b[39m\u001b[38;5;28;01mTrue\u001b[39;00m)\n\u001b[1;32m      7\u001b[0m V \u001b[38;5;241m=\u001b[39m FunctionSpace(domain\u001b[38;5;241m.\u001b[39mmesh, \u001b[38;5;124m\"\u001b[39m\u001b[38;5;124mCG\u001b[39m\u001b[38;5;124m\"\u001b[39m, \u001b[38;5;241m1\u001b[39m)\n",
      "\u001b[0;31mNameError\u001b[0m: name 'TimeKeeper' is not defined"
     ]
    }
   ],
   "source": [
    "# Init arguments\n",
    "dt = 60.\n",
    "T = 3600.\n",
    "res = 32\n",
    "time = TimeKeeper(dt, T)\n",
    "domain = hdf2fenics(f\"{MESH_DIR}/mesh{res}.h5\", pack=True)\n",
    "V = FunctionSpace(domain.mesh, \"CG\", 1)\n",
    "\n",
    "# Define initial Condition\n",
    "u0 = HomogeneousDirichletProjector().project(\n",
    "        gaussian_expression(center=PARAMS[\"injection_center\"], std=PARAMS[\"injection_spread\"], degree=1), V\n",
    ")\n",
    "projectors.rescale_function(u0, 1.)\n",
    "problem = HomogeneousProblem(domain, time, u0, V)\n",
    "\n",
    "results_path = f\"{RESULTS_DIR}/testpath\"\n",
    "computer_homogeneous = BaseComputer({\"amounts_total\": lambda u: assemble(u * dx)})\n",
    "solve_diffusion_problem(problem, results_path, computer_homogeneous)\n",
    "time.reset()\n",
    "\n",
    "# Perform plotting\n",
    "plt.figure()\n",
    "plt.plot(computer_homogeneous[\"amounts_total\"])\n",
    "plt.show()"
   ]
  },
  {
   "cell_type": "markdown",
   "id": "e5caf951",
   "metadata": {},
   "source": [
    "## Tracer Conservation"
   ]
  },
  {
   "cell_type": "code",
   "execution_count": 3,
   "id": "87e71411",
   "metadata": {},
   "outputs": [
    {
     "ename": "NameError",
     "evalue": "name 'TracerConservationProblem' is not defined",
     "output_type": "error",
     "traceback": [
      "\u001b[0;31m---------------------------------------------------------------------------\u001b[0m",
      "\u001b[0;31mNameError\u001b[0m                                 Traceback (most recent call last)",
      "Cell \u001b[0;32mIn [3], line 2\u001b[0m\n\u001b[1;32m      1\u001b[0m \u001b[38;5;66;03m# Initiate problem, computers, and solve the problem\u001b[39;00m\n\u001b[0;32m----> 2\u001b[0m problem \u001b[38;5;241m=\u001b[39m \u001b[43mTracerConservationProblem\u001b[49m(domain, time, u0, V)\n\u001b[1;32m      3\u001b[0m computer_conservation \u001b[38;5;241m=\u001b[39m BaseComputer({\u001b[38;5;124m\"\u001b[39m\u001b[38;5;124mamounts_total\u001b[39m\u001b[38;5;124m\"\u001b[39m: \u001b[38;5;28;01mlambda\u001b[39;00m u: assemble(u \u001b[38;5;241m*\u001b[39m dx)})\n\u001b[1;32m      5\u001b[0m \u001b[38;5;66;03m# \u001b[39;00m\n",
      "\u001b[0;31mNameError\u001b[0m: name 'TracerConservationProblem' is not defined"
     ]
    }
   ],
   "source": [
    "# Initiate problem, computers, and solve the problem\n",
    "problem = TracerConservationProblem(domain, time, u0, V)\n",
    "computer_conservation = BaseComputer({\"amounts_total\": lambda u: assemble(u * dx)})\n",
    " \n",
    "# \n",
    "time.reset()\n",
    "solve_diffusion_problem(problem, results_path, computer_conservation)\n",
    "\n",
    "# Perform plotting\n",
    "plt.figure()\n",
    "plt.plot(computer_homogeneous[\"amounts_total\"], label=\"homogen\")\n",
    "plt.plot(computer_conservation[\"amounts_total\"], label=\"conservation\")\n",
    "plt.legend()\n",
    "plt.show()"
   ]
  },
  {
   "cell_type": "markdown",
   "id": "af04c15f",
   "metadata": {},
   "source": [
    "## Tracer Decay "
   ]
  },
  {
   "cell_type": "code",
   "execution_count": 4,
   "id": "98354f22",
   "metadata": {},
   "outputs": [
    {
     "ename": "NameError",
     "evalue": "name 'TracerDecayProblem' is not defined",
     "output_type": "error",
     "traceback": [
      "\u001b[0;31m---------------------------------------------------------------------------\u001b[0m",
      "\u001b[0;31mNameError\u001b[0m                                 Traceback (most recent call last)",
      "Cell \u001b[0;32mIn [4], line 2\u001b[0m\n\u001b[1;32m      1\u001b[0m \u001b[38;5;66;03m# Initiate problem, computers, and solve the problem\u001b[39;00m\n\u001b[0;32m----> 2\u001b[0m problem \u001b[38;5;241m=\u001b[39m \u001b[43mTracerDecayProblem\u001b[49m(domain, time, u0, V)\n\u001b[1;32m      3\u001b[0m computer_decay \u001b[38;5;241m=\u001b[39m BaseComputer({\u001b[38;5;124m\"\u001b[39m\u001b[38;5;124mamounts_total\u001b[39m\u001b[38;5;124m\"\u001b[39m: \u001b[38;5;28;01mlambda\u001b[39;00m u: assemble(u \u001b[38;5;241m*\u001b[39m dx)})\n\u001b[1;32m      5\u001b[0m time\u001b[38;5;241m.\u001b[39mreset()\n",
      "\u001b[0;31mNameError\u001b[0m: name 'TracerDecayProblem' is not defined"
     ]
    }
   ],
   "source": [
    "# Initiate problem, computers, and solve the problem\n",
    "problem = TracerDecayProblem(domain, time, u0, V)\n",
    "computer_decay = BaseComputer({\"amounts_total\": lambda u: assemble(u * dx)})\n",
    "\n",
    "time.reset()\n",
    "solve_diffusion_problem(problem, results_path, computer_decay)\n",
    "\n",
    "# Perform plotting\n",
    "plt.figure()\n",
    "plt.plot(computer_homogeneous[\"amounts_total\"], label=\"homogen\")\n",
    "plt.plot(computer_conservation[\"amounts_total\"], label=\"conservation\")\n",
    "plt.plot(computer_decay[\"amounts_total\"], label=\"decay\")\n",
    "plt.legend()\n",
    "plt.show()"
   ]
  },
  {
   "cell_type": "markdown",
   "id": "e89c8051",
   "metadata": {},
   "source": [
    "## All models \n",
    "Create functionality for running simulations of all models simoultaneously, and test them with low resolution, short timespan."
   ]
  },
  {
   "cell_type": "code",
   "execution_count": 5,
   "id": "dbde0b29",
   "metadata": {},
   "outputs": [
    {
     "ename": "NameError",
     "evalue": "name 'HomogeneousProblem' is not defined",
     "output_type": "error",
     "traceback": [
      "\u001b[0;31m---------------------------------------------------------------------------\u001b[0m",
      "\u001b[0;31mNameError\u001b[0m                                 Traceback (most recent call last)",
      "Cell \u001b[0;32mIn [5], line 3\u001b[0m\n\u001b[1;32m      1\u001b[0m CASES \u001b[38;5;241m=\u001b[39m {\n\u001b[1;32m      2\u001b[0m     \u001b[38;5;124m\"\u001b[39m\u001b[38;5;124mhomogeneous\u001b[39m\u001b[38;5;124m\"\u001b[39m: {\n\u001b[0;32m----> 3\u001b[0m         \u001b[38;5;124m\"\u001b[39m\u001b[38;5;124mproblem\u001b[39m\u001b[38;5;124m\"\u001b[39m: \u001b[43mHomogeneousProblem\u001b[49m,\n\u001b[1;32m      4\u001b[0m         \u001b[38;5;124m\"\u001b[39m\u001b[38;5;124mlabel\u001b[39m\u001b[38;5;124m\"\u001b[39m: \u001b[38;5;124m\"\u001b[39m\u001b[38;5;124mHomogeneous\u001b[39m\u001b[38;5;124m\"\u001b[39m,\n\u001b[1;32m      5\u001b[0m     },\n\u001b[1;32m      6\u001b[0m     \u001b[38;5;124m\"\u001b[39m\u001b[38;5;124mtracerconservation\u001b[39m\u001b[38;5;124m\"\u001b[39m : {\n\u001b[1;32m      7\u001b[0m         \u001b[38;5;124m\"\u001b[39m\u001b[38;5;124mproblem\u001b[39m\u001b[38;5;124m\"\u001b[39m: TracerConservationProblem,\n\u001b[1;32m      8\u001b[0m         \u001b[38;5;124m\"\u001b[39m\u001b[38;5;124mlabel\u001b[39m\u001b[38;5;124m\"\u001b[39m: \u001b[38;5;124m\"\u001b[39m\u001b[38;5;124mTracer Conservation\u001b[39m\u001b[38;5;124m\"\u001b[39m\n\u001b[1;32m      9\u001b[0m     },\n\u001b[1;32m     10\u001b[0m     \u001b[38;5;124m\"\u001b[39m\u001b[38;5;124mtracerdecay\u001b[39m\u001b[38;5;124m\"\u001b[39m: {\n\u001b[1;32m     11\u001b[0m         \u001b[38;5;124m\"\u001b[39m\u001b[38;5;124mproblem\u001b[39m\u001b[38;5;124m\"\u001b[39m: TracerDecayProblem,\n\u001b[1;32m     12\u001b[0m         \u001b[38;5;124m\"\u001b[39m\u001b[38;5;124mlabel\u001b[39m\u001b[38;5;124m\"\u001b[39m: \u001b[38;5;124m\"\u001b[39m\u001b[38;5;124mTracer Decay\u001b[39m\u001b[38;5;124m\"\u001b[39m\n\u001b[1;32m     13\u001b[0m     }\n\u001b[1;32m     14\u001b[0m }\n\u001b[1;32m     15\u001b[0m models \u001b[38;5;241m=\u001b[39m \u001b[38;5;28mlist\u001b[39m(CASES)\n\u001b[1;32m     17\u001b[0m \u001b[38;5;28;01mdef\u001b[39;00m \u001b[38;5;21mratbrain_diffusion\u001b[39m(meshfile, results_path, model, timestep, endtime, computer\u001b[38;5;241m=\u001b[39m\u001b[38;5;28;01mNone\u001b[39;00m,\n\u001b[1;32m     18\u001b[0m                        center\u001b[38;5;241m=\u001b[39m(\u001b[38;5;241m2\u001b[39m, \u001b[38;5;241m2\u001b[39m, \u001b[38;5;241m2\u001b[39m), std \u001b[38;5;241m=\u001b[39m \u001b[38;5;241m0.1\u001b[39m, degree\u001b[38;5;241m=\u001b[39m\u001b[38;5;241m1\u001b[39m):    \n\u001b[1;32m     19\u001b[0m     \u001b[38;5;66;03m# Load functionspace and domain \u001b[39;00m\n",
      "\u001b[0;31mNameError\u001b[0m: name 'HomogeneousProblem' is not defined"
     ]
    }
   ],
   "source": [
    "CASES = {\n",
    "    \"homogeneous\": {\n",
    "        \"problem\": HomogeneousProblem,\n",
    "        \"label\": \"Homogeneous\",\n",
    "    },\n",
    "    \"tracerconservation\" : {\n",
    "        \"problem\": TracerConservationProblem,\n",
    "        \"label\": \"Tracer Conservation\"\n",
    "    },\n",
    "    \"tracerdecay\": {\n",
    "        \"problem\": TracerDecayProblem,\n",
    "        \"label\": \"Tracer Decay\"\n",
    "    }\n",
    "}\n",
    "models = list(CASES)\n",
    "\n",
    "def ratbrain_diffusion(meshfile, results_path, model, timestep, endtime, computer=None,\n",
    "                       center=(2, 2, 2), std = 0.1, degree=1):    \n",
    "    # Load functionspace and domain \n",
    "    domain = hdf2fenics(meshfile, pack=True)\n",
    "    V = FunctionSpace(domain.mesh, \"CG\", degree)\n",
    "\n",
    "    # Define initial condition and rescale to unit mass\n",
    "    u0_expression = gaussian_expression(center=center, std=std, degree=degree)\n",
    "    u0 = HomogeneousDirichletProjector().project(u0_expression, V)\n",
    "    projectors.rescale_function(u0, 1.)  # Scale to unit mass total\n",
    "    \n",
    "\n",
    "    # Define timekeeper\n",
    "    time = TimeKeeper(timestep, endtime)\n",
    "        \n",
    "    # Initiate problem, computers, and solve the problem\n",
    "    problem = CASES[model][\"problem\"](domain, time, u0, V)\n",
    "    \n",
    "    # Solve\n",
    "    solve_diffusion_problem(problem, results_path, computer)\n",
    "    problem.time.reset()\n",
    "    \n",
    "    return problem"
   ]
  },
  {
   "cell_type": "code",
   "execution_count": 8,
   "id": "41b8f687",
   "metadata": {},
   "outputs": [
    {
     "name": "stdout",
     "output_type": "stream",
     "text": [
      "[====================]   10.0min / 10.0 min\n",
      "[====================]   10.0min / 10.0 min\n",
      "[====================]   10.0min / 10.0 min\n"
     ]
    }
   ],
   "source": [
    "res = 8\n",
    "degree = 1\n",
    "dt = 60.\n",
    "T = 600.\n",
    "phi = PARAMS[\"porosity_ecs\"]\n",
    "\n",
    "functions = {\n",
    "    \"amounts_total\": lambda u: assemble(u * dx) * phi\n",
    "}\n",
    "\n",
    "values = {}\n",
    "for model, info in CASES.items():\n",
    "    # Define problem with storage path\n",
    "    results_path = f\"{RESULTS_DIR}/test-{model}-mesh{res}\"\n",
    "    meshfile = f\"{MESH_DIR}/mesh{res}.h5\"\n",
    "    \n",
    "    problem = ratbrain_diffusion(meshfile, results_path, model, dt, T)\n",
    "    \n",
    "    # Load results and compute values from function_dict\n",
    "    storage = TimeSeriesStorage(\"r\", results_path)        \n",
    "    values[model] = {\n",
    "        funcname: np.fromiter(map(func, storage), dtype=float) for funcname, func in functions.items()\n",
    "    }\n",
    "        \n",
    "    # Store time as well, and close storage.\n",
    "    values[model][\"time\"] = problem.time.get_vector()\n",
    "    storage.close()"
   ]
  },
  {
   "cell_type": "code",
   "execution_count": 9,
   "id": "d68bb41a",
   "metadata": {},
   "outputs": [
    {
     "data": {
      "image/png": "[encoded data removed]",
      "text/plain": [
       "<Figure size 432x288 with 1 Axes>"
      ]
     },
     "metadata": {
      "needs_background": "light"
     },
     "output_type": "display_data"
    },
    {
     "name": "stderr",
     "output_type": "stream",
     "text": [
      "The PostScript backend does not support transparency; partially transparent artists will be rendered opaque.\n"
     ]
    },
    {
     "data": {
      "image/png": "[encoded data removed]",
      "text/plain": [
       "<Figure size 432x288 with 1 Axes>"
      ]
     },
     "metadata": {
      "needs_background": "light"
     },
     "output_type": "display_data"
    }
   ],
   "source": [
    "plt.figure()\n",
    "# Plot amounts for all models\n",
    "for model, info in CASES.items():\n",
    "    t = values[model][\"time\"]\n",
    "    amounts = values[model][\"amounts_total\"]\n",
    "    plt.plot(t, amounts, label=info['label'])\n",
    "\n",
    "plt.xticks(t[::60], (t[::60]/ 60).astype(int))\n",
    "plt.xlabel(\"min\")\n",
    "plt.legend()\n",
    "plt.title(\"Brain Amounts\")\n",
    "plt.show()\n",
    "\n",
    "plt.figure()\n",
    "# Plot relative amounts for all models\n",
    "for model, info in CASES.items():\n",
    "    t = values[model][\"time\"]\n",
    "    amounts = values[model][\"amounts_total\"]\n",
    "    plt.plot(t, amounts / amounts[0], label=info['label'])\n",
    "plt.xticks(t[::60], (t[::60]/ 60).astype(int))\n",
    "plt.xlabel(\"min\")\n",
    "plt.legend()\n",
    "plt.title(\"Relative Amounts\")\n",
    "plt.savefig(\"test.eps\", bbox_inches=\"tight\")\n",
    "plt.show()"
   ]
  },
  {
   "cell_type": "markdown",
   "id": "ee96a5ba",
   "metadata": {},
   "source": [
    "### Run Simulations\n",
    "Perform simulation for all models with all resolutions, for a full 24 hours."
   ]
  },
  {
   "cell_type": "code",
   "execution_count": 10,
   "id": "e26b5281",
   "metadata": {},
   "outputs": [
    {
     "name": "stdout",
     "output_type": "stream",
     "text": [
      "========================================\n",
      "Resolutions: \t[8, 16, 32]\n",
      "Models: \t['homogeneous', 'tracerconservation', 'tracerdecay']\n",
      "dt: \t\t[60, 600, 3600]\n",
      "T: \t\t21600.0s i.e. 6.0h\n",
      "========================================\n",
      "== Mesh 8 | Model: homogeneous ==\n",
      "[====================]   60.0min / 60.0 min\n",
      "\n",
      "Solved in  0min  7s\n",
      "\n",
      "== Mesh 8 | Model: homogeneous | Timestep: 600 ==\n",
      "[====================]  360.0min / 360.0min\n",
      "\n",
      "Solved in  0min  2s\n",
      "\n",
      "== Mesh 8 | Model: homogeneous | Timestep: 3600 ==\n",
      "[====================]  360.0min / 360.0min\n",
      "\n",
      "Solved in  0min  0s\n",
      "\n",
      "== Mesh 8 | Model: tracerconservation | Timestep: 60 ==\n",
      "[====================]  360.0min / 360.0min\n",
      "\n",
      "Solved in  0min  8s\n",
      "\n",
      "== Mesh 8 | Model: tracerconservation | Timestep: 600 ==\n",
      "[====================]  360.0min / 360.0min\n",
      "\n",
      "Solved in  0min  0s\n",
      "\n",
      "== Mesh 8 | Model: tracerconservation | Timestep: 3600 ==\n",
      "[====================]  360.0min / 360.0min\n",
      "\n",
      "Solved in  0min  0s\n",
      "\n",
      "== Mesh 8 | Model: tracerdecay | Timestep: 60 ==\n",
      "[====================]  360.0min / 360.0min\n",
      "\n",
      "Solved in  0min  7s\n",
      "\n",
      "== Mesh 8 | Model: tracerdecay | Timestep: 600 ==\n",
      "[====================]  360.0min / 360.0min\n",
      "\n",
      "Solved in  0min  0s\n",
      "\n",
      "== Mesh 8 | Model: tracerdecay | Timestep: 3600 ==\n",
      "[====================]  360.0min / 360.0min\n",
      "\n",
      "Solved in  0min  0s\n",
      "\n",
      "== Mesh 16 | Model: homogeneous | Timestep: 60 ==\n",
      "[====================]  360.0min / 360.0min\n",
      "\n",
      "Solved in  0min 29s\n",
      "\n",
      "== Mesh 16 | Model: homogeneous | Timestep: 600 ==\n",
      "[====================]  360.0min / 360.0min\n",
      "\n",
      "Solved in  0min  3s\n",
      "\n",
      "== Mesh 16 | Model: homogeneous | Timestep: 3600 ==\n",
      "[====================]  360.0min / 360.0min\n",
      "\n",
      "Solved in  0min  0s\n",
      "\n",
      "== Mesh 16 | Model: tracerconservation | Timestep: 60 ==\n",
      "[====================]  360.0min / 360.0min\n",
      "\n",
      "Solved in  0min 33s\n",
      "\n",
      "== Mesh 16 | Model: tracerconservation | Timestep: 600 ==\n",
      "[====================]  360.0min / 360.0min\n",
      "\n",
      "Solved in  0min  3s\n",
      "\n",
      "== Mesh 16 | Model: tracerconservation | Timestep: 3600 ==\n",
      "[====================]  360.0min / 360.0min\n",
      "\n",
      "Solved in  0min  0s\n",
      "\n",
      "== Mesh 16 | Model: tracerdecay | Timestep: 60 ==\n",
      "[====================]  360.0min / 360.0min\n",
      "\n",
      "Solved in  0min 33s\n",
      "\n",
      "== Mesh 16 | Model: tracerdecay | Timestep: 600 ==\n",
      "[====================]  360.0min / 360.0min\n",
      "\n",
      "Solved in  0min  3s\n",
      "\n",
      "== Mesh 16 | Model: tracerdecay | Timestep: 3600 ==\n",
      "[====================]  360.0min / 360.0min\n",
      "\n",
      "Solved in  0min  0s\n",
      "\n",
      "== Mesh 32 | Model: homogeneous | Timestep: 60 ==\n",
      "[====================]  360.0min / 360.0min\n",
      "\n",
      "Solved in  3min  5s\n",
      "\n",
      "== Mesh 32 | Model: homogeneous | Timestep: 600 ==\n",
      "[====================]  360.0min / 360.0min\n",
      "\n",
      "Solved in  0min 27s\n",
      "\n",
      "== Mesh 32 | Model: homogeneous | Timestep: 3600 ==\n",
      "[====================]  360.0min / 360.0min\n",
      "\n",
      "Solved in  0min  5s\n",
      "\n",
      "== Mesh 32 | Model: tracerconservation | Timestep: 60 ==\n",
      "[====================]  360.0min / 360.0min\n",
      "\n",
      "Solved in  3min 51s\n",
      "\n",
      "== Mesh 32 | Model: tracerconservation | Timestep: 600 ==\n",
      "[====================]  360.0min / 360.0min\n",
      "\n",
      "Solved in  0min 23s\n",
      "\n",
      "== Mesh 32 | Model: tracerconservation | Timestep: 3600 ==\n",
      "[====================]  360.0min / 360.0min\n",
      "\n",
      "Solved in  0min  4s\n",
      "\n",
      "== Mesh 32 | Model: tracerdecay | Timestep: 60 ==\n",
      "[====================]  360.0min / 360.0min\n",
      "\n",
      "Solved in  3min 30s\n",
      "\n",
      "== Mesh 32 | Model: tracerdecay | Timestep: 600 ==\n",
      "[====================]  360.0min / 360.0min\n",
      "\n",
      "Solved in  0min 21s\n",
      "\n",
      "== Mesh 32 | Model: tracerdecay | Timestep: 3600 ==\n",
      "[====================]  360.0min / 360.0min\n",
      "\n",
      "Solved in  0min  4s\n",
      "\n"
     ]
    }
   ],
   "source": [
    "resolutions = [8, 16, 32] #, 64]\n",
    "models = ['homogeneous', 'tracerconservation', 'tracerdecay']\n",
    "timesteps = [60, 600, 3600]\n",
    "\n",
    "# dt = 60.\n",
    "T = 3600. * 6. # 24\n",
    "\n",
    "print(f\"\"\"{40*\"=\"}\n",
    "Resolutions: \\t{resolutions}\n",
    "Models: \\t{models}\n",
    "dt: \\t\\t{timesteps}\n",
    "T: \\t\\t{T}s i.e. {T/3600:.1f}h\n",
    "{40*\"=\"}\"\"\")\n",
    "\n",
    "\n",
    "# Uncomment if you want a prompt to assertain correct results.\n",
    "# Useful to avoid unintentional long-running simulations.\n",
    "# proceed = input(\"Are these setting correct? (y/N)\")\n",
    "# print()\n",
    "# if proceed.lower() != 'y':\n",
    "#     raise SystemExit(\"Stop right there!\")\n",
    "    \n",
    "for res in resolutions:\n",
    "    for model in models:\n",
    "        for dt in timesteps:\n",
    "            tic = pytime.time()\n",
    "            print(f\"== Mesh {res} | Model: {model} | Timestep: {dt} ==\")\n",
    "            # Define problem with storage path\n",
    "            path = f\"{RESULTS_DIR}/results-{model}-mesh{res}-dt{dt}\"\n",
    "            meshfile = f\"{MESH_DIR}/mesh{res}.h5\"\n",
    "            problem = ratbrain_diffusion(meshfile, path, model, dt, T)\n",
    "            toc = pytime.time()\n",
    "            elapsed = toc - tic\n",
    "            print()\n",
    "            print(f\"Solved in {int( elapsed / 60):2d}min {int(elapsed %60):2d}s\")\n",
    "            print()        "
   ]
  },
  {
   "cell_type": "raw",
   "id": "1361a0b7",
   "metadata": {},
   "source": [
    "# dt_list = [15, 30, 60, 120]\n",
    "dt_list = [15, 30, 60, 120]\n",
    "\n",
    "\n",
    "#resolutions = [8, 16, 32, 64]\n",
    "#CASES = ['homogeneous', 'tracerconservation', 'tracerdecay']\n",
    "models = ['homogeneous']\n",
    "\n",
    "\n",
    "# dt = 60.\n",
    "res = 32\n",
    "T = 3600. * 1\n",
    "\n",
    "# proceed = input(\"Are these setting correct? (y/N)\")\n",
    "# print()\n",
    "# if proceed.lower() != 'y':\n",
    "#     raise SystemExit(\"Stop right there!\")\n",
    "    \n",
    "for dt in dt_list:\n",
    "    for model in models:\n",
    "        tic = pytime.time()\n",
    "        print(f\"== Timestep {dt} | Model: {model} ==\")\n",
    "        # Define problem with storage path\n",
    "        path = f\"{RESULTS_DIR}/results-{model}-mesh{res}-dt{dt}\"\n",
    "        meshfile = f\"{MESH_DIR}/mesh{res}.h5\"\n",
    "        problem = ratbrain_diffusion(meshfile, path, model, dt, T)\n",
    "        toc = pytime.time()\n",
    "        elapsed = toc - tic\n",
    "        print()\n",
    "        print(f\"Solved in {int( elapsed / 60):2d}min {int(elapsed %60):2d}s\")\n",
    "        print()        "
   ]
  }
 ],
 "metadata": {
  "kernelspec": {
   "display_name": "Python 3 (ipykernel)",
   "language": "python",
   "name": "python3"
  },
  "language_info": {
   "codemirror_mode": {
    "name": "ipython",
    "version": 3
   },
   "file_extension": ".py",
   "mimetype": "text/x-python",
   "name": "python",
   "nbconvert_exporter": "python",
   "pygments_lexer": "ipython3",
   "version": "3.10.6"
  }
 },
 "nbformat": 4,
 "nbformat_minor": 5
}
