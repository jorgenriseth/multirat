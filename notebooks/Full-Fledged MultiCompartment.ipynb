{
 "cells": [
  {
   "cell_type": "code",
   "execution_count": 1,
   "id": "f08cf8b7",
   "metadata": {},
   "outputs": [],
   "source": [
    "%load_ext autoreload\n",
    "%autoreload 2"
   ]
  },
  {
   "cell_type": "code",
   "execution_count": 2,
   "id": "389c96c4",
   "metadata": {},
   "outputs": [],
   "source": [
    "from itertools import product, combinations\n",
    "from pathlib import Path\n",
    "\n",
    "import matplotlib.pyplot as plt\n",
    "import numpy as np\n",
    "from dolfin import *\n",
    "\n",
    "import multirat.base.projectors as projectors\n",
    "from multirat.parameters import get_base_parameters\n",
    "\n",
    "\n",
    "from pantarei.io import TimeSeriesStorage"
   ]
  },
  {
   "cell_type": "markdown",
   "id": "3f064692",
   "metadata": {},
   "source": [
    "# Multi-Compartment Model\n",
    "In this notebook, I attempt to implement the full fledged multi-compartment model for solute transport within the rat brain. The implementation will be an attempt to convert Alexandre's implementation to a style similar to the diffusion implementation.\n",
    "\n",
    "## Intentions\n",
    "The goal of this notebook is to impose a bit more of a structure on the implementation of a model. The purpose of the structure is two-fold: Firstly, it will make it easier to implement convergence-studies for time- and mesh-resolutions. Secondly, the structure willl (hopefully) make the code more accessible, reproducable and extensible.\n",
    "\n",
    "## Methods\n",
    "* All implementations will initially be done using a 2D-square. Thereafter it will be extended to the ratbrain. \n",
    "\n",
    "### 1. Implement the multi-compartment pressure model\n",
    "- [x] \n",
    "    * Start with only two compartments.\n",
    "    * Use Dirichlet boundary conditions on arterial and venous compartment.\n",
    "    * Store and visualize results using the new timeseriesstorage-class.\n",
    "### 2. Implement a convetion-diffusion equation with a prescribed stationary velocity field\n",
    "- [x] \n",
    "    * Still use only two compartments.\n",
    "    * Fluid flow inwards in arterial compartment, outwards in venous.\n",
    "    * Use Homogeneous boundary conditions.\n",
    "    * Initial condition, non-centralized gaussian. \n",
    "### 3. Load velocity field from the pressure fields within each compartment, and use in transport equation.\n",
    "- [x] \n",
    "    * Keep defaults from above.\n",
    "### 4. Run a convergence study for both pressure field and solute transport\n",
    "- [ ] \n",
    "    * Run a classical L2, H1-convergence on the pressure fields.\n",
    "    * Compute and plot the clearance curves for varying mesh and time resolution.\n",
    "### 5. Add more compartments (4-compartment model)\n",
    "- [x] \n",
    "    * Create functionality to easily include new compartments.\n",
    "    * Rerun convergence study with 4-compartment model. \n",
    "### 6. Adapt to ratbrain-mesh and proper parameters.\n",
    "- [ ] \n",
    "    * Use proper mesh\n",
    "    * Extract parameters from Alexandre's latest file.\n",
    "    * Recreate the results from the current paper.\n",
    "### 7. Refactor Solver"
   ]
  },
  {
   "cell_type": "code",
   "execution_count": 3,
   "id": "1a1bccbd",
   "metadata": {},
   "outputs": [],
   "source": [
    "from multirat.base.meshprocessing import Domain\n",
    "from typing import List"
   ]
  },
  {
   "cell_type": "code",
   "execution_count": 4,
   "id": "7ff48271",
   "metadata": {},
   "outputs": [],
   "source": [
    "def create_mesh(n, x0=-1., y0=-1., x1=1., y1=1.):\n",
    "    return Domain(\n",
    "        mesh=RectangleMesh(Point(x0, y0), Point(x1, y1), n, n),\n",
    "        subdomains=None,\n",
    "        boundaries=None,\n",
    "    )\n",
    "\n",
    "domain = create_mesh(20)\n",
    "domain.mesh;\n",
    "\n",
    "parameters = [\"porosity\", \"viscosity\", \"permeability\"]#, \"diffusion_inulin_free\"]\n",
    "compartments = [\"pvs_arteries\", \"pvs_veins\", \"ecs\"]#, \"pvs_capillaries\"]\n",
    "\n",
    "P1 = FiniteElement('CG', domain.mesh.ufl_cell(), 1)\n",
    "el = MixedElement([P1]* len(compartments))\n",
    "V = FunctionSpace(domain.mesh, el)"
   ]
  },
  {
   "cell_type": "code",
   "execution_count": 4,
   "id": "374f4d76",
   "metadata": {},
   "outputs": [],
   "source": [
    "from abc import ABC, abstractmethod"
   ]
  },
  {
   "cell_type": "code",
   "execution_count": null,
   "id": "f2bda906",
   "metadata": {},
   "outputs": [],
   "source": [
    "class BaseDiffusionProblem:\n",
    "    def __init__(self, domain, timekeeper, u0, functionspace, boundaries, D=PARAMS[\"diffusion_constant\"]):\n",
    "        self.domain = domain  # Class containing mesh, subdomains and boudnary info\n",
    "        self.boundaries = boundaries\n",
    "        self.time = timekeeper\n",
    "        self.V = functionspace  # Function Space\n",
    "        self.D = D  # Diffusion constant\n",
    "        self.A = None  # Bilinear form, assembled matrix\n",
    "        self.L = None  # Linear from (not assembled)\n",
    "        self.u = None  # Function to hold solutions.\n",
    "        self.u0 = Function(functionspace, name=\"concentration\")  # Function to hold solution at previous timestep.\n",
    "        self.u0.assign(u0)\n",
    "        self.bcs = []  # List of possible DirichletBoundaries\n",
    "\n",
    "    def build_variational_form(self):\n",
    "        u = TrialFunction(self.V)\n",
    "        v = TestFunction(self.V)\n",
    "        a = (u * v + self.time.dt * self.D * inner(grad(u), grad(v))) * dx\n",
    "        self.A = assemble(a)\n",
    "        self.L = self.u0 * v * dx\n",
    "\n",
    "    def init_solver(self):\n",
    "        self.build_variational_form()\n",
    "        self.process_boundaries(self.boundaries)\n",
    "        self.u = Function(self.V, name='concentration')\n",
    "        self.u.assign(self.u0)\n",
    "\n",
    "    def process_boundaries(self, boundaries):\n",
    "        self.bcs = process_dirichlet(self.domain, self.V, boundaries)\n",
    "        self.L += process_boundary_forms(self.domain, self.V, boundaries)\n",
    "\n",
    "    def pre_solve(self):\n",
    "        pass\n",
    "\n",
    "    def solve(self):\n",
    "        b = assemble(self.L)\n",
    "        for bc in self.bcs:\n",
    "            bc.apply(self.A, b)\n",
    "        solve(self.A, self.u.vector(), b)\n",
    "\n",
    "    def post_solve(self):\n",
    "        self.u0.assign(self.u)"
   ]
  },
  {
   "cell_type": "markdown",
   "id": "1484f37c",
   "metadata": {},
   "source": [
    "### Define parameters"
   ]
  },
  {
   "cell_type": "code",
   "execution_count": 5,
   "id": "da26e163",
   "metadata": {},
   "outputs": [
    {
     "data": {
      "text/plain": [
       "{'porosity-pvs_arteries': 1.0,\n",
       " 'porosity-pvs_veins': 1.0,\n",
       " 'porosity-ecs': 1.0,\n",
       " 'viscosity-pvs_arteries': 1.0,\n",
       " 'viscosity-pvs_veins': 1.0,\n",
       " 'viscosity-ecs': 1.0,\n",
       " 'permeability-pvs_arteries': 1.0,\n",
       " 'permeability-pvs_veins': 1.0,\n",
       " 'permeability-ecs': 1.0,\n",
       " 'diffusion_inulin_free-pvs_arteries': 0.01,\n",
       " 'diffusion_inulin_free-pvs_veins': 0.01,\n",
       " 'diffusion_inulin_free-ecs': 0.01,\n",
       " 'transfer_fluid-pvs_arteries-pvs_veins': 1.0,\n",
       " 'transfer_fluid-pvs_arteries-ecs': 1.0,\n",
       " 'transfer_fluid-pvs_veins-ecs': 1.0,\n",
       " 'transfer_solute_diffusive-pvs_arteries-pvs_veins': 1.0,\n",
       " 'transfer_solute_diffusive-pvs_arteries-ecs': 1.0,\n",
       " 'transfer_solute_diffusive-pvs_veins-ecs': 1.0,\n",
       " 'transfer_solute_convective-pvs_arteries-pvs_veins': 1.0,\n",
       " 'transfer_solute_convective-pvs_arteries-ecs': 1.0,\n",
       " 'transfer_solute_convective-pvs_veins-ecs': 1.0}"
      ]
     },
     "execution_count": 5,
     "metadata": {},
     "output_type": "execute_result"
    }
   ],
   "source": [
    "compartment_properties = {\n",
    "    f\"{parameter}-{comp}\": 1. for parameter, comp in product(parameters, compartments)\n",
    "}\n",
    "diffusion_constant = {\n",
    "    f\"diffusion_inulin_free-{comp}\": 0.01 for comp in compartments\n",
    "}\n",
    "fluid_transfer = {\n",
    "    f\"transfer_fluid-{comp1}-{comp2}\": 1.0 for comp1, comp2 in combinations(compartments, 2)\n",
    "}\n",
    "diffusive_transfer = {\n",
    "    f\"transfer_solute_diffusive-{comp1}-{comp2}\": 1.0 for comp1, comp2 in combinations(compartments, 2)\n",
    "}\n",
    "convective_transfer = {\n",
    "    f\"transfer_solute_convective-{comp1}-{comp2}\": 1.0 for comp1, comp2 in combinations(compartments, 2)\n",
    "}\n",
    "params = {\n",
    "    **compartment_properties,\n",
    "    **diffusion_constant,\n",
    "    **fluid_transfer,\n",
    "    **diffusive_transfer,\n",
    "    **convective_transfer,\n",
    "}\n",
    "params"
   ]
  },
  {
   "cell_type": "raw",
   "id": "4e7397b0",
   "metadata": {},
   "source": [
    "# Convert to Constants\n",
    "params = {\n",
    "    key: Constant(val) for key, val in params.items()\n",
    "}"
   ]
  },
  {
   "cell_type": "code",
   "execution_count": 6,
   "id": "6b0babf2",
   "metadata": {},
   "outputs": [],
   "source": [
    "def get_interface_parameter(\n",
    "    name, comp1, comp2, parameters, symmetric\n",
    "):\n",
    "    try:\n",
    "        return parameters[f\"{name}-{comp1}-{comp2}\"]\n",
    "    except KeyError as e:\n",
    "        if symmetric:\n",
    "            return parameters[f\"{name}-{comp2}-{comp1}\"]\n",
    "        else:\n",
    "            raise ValueError(e)\n",
    "            \n",
    "\n",
    "def get_transfer_coefficients(name, parameters, compartments, symmetric=True):\n",
    "    \"\"\"Extract fluid transfer coeffients from parameter-dictionary,\n",
    "    between all compartments listed in the compartments. Assumes\n",
    "    symmetric coefficients and adds transfer coefficients for\n",
    "    both i->j and j->i\n",
    "    \"\"\"\n",
    "    T = {\n",
    "    (i, j): get_interface_parameter(name, i, j, parameters, symmetric)\n",
    "        for (i, j) in combinations(compartments, 2)\n",
    "    }\n",
    "    return {\n",
    "        **T,\n",
    "        **{\n",
    "            (j, i): get_interface_parameter(name, j, i, parameters, symmetric)\n",
    "                for (i, j) in combinations(compartments, 2)\n",
    "        }\n",
    "    }\n",
    "\n",
    "            \n",
    "def darcy_constant(permeability, viscosity, porosity):\n",
    "    return permeability / (viscosity * porosity)\n",
    "\n",
    "\n",
    "def compute_darcy_constants(p, compartments):\n",
    "    return {\n",
    "        x:\n",
    "            darcy_constant(\n",
    "                p[f\"permeability-{x}\"],\n",
    "                p[f\"viscosity-{x}\"],\n",
    "                p[f\"porosity-{x}\"]\n",
    "            )\n",
    "        for x in compartments\n",
    "    }\n",
    "\n",
    "def pressure_variational_form(p: Function, compartments: List[str], parameters):\n",
    "    if not V.num_sub_spaces() == len(compartments):\n",
    "        raise ValueError(\"V should be MixedElement space of same dimension as the number of compartments.\")\n",
    "    \n",
    "    q = TestFunctions(p.function_space())\n",
    "    k = {key: Constant(val) for key, val in compute_darcy_constants(parameters, compartments).items()}\n",
    "    T = {key: Constant(val) for key, val in get_transfer_coefficients(\"transfer_fluid\", parameters, compartments).items()}\n",
    "    a = 0.\n",
    "    for j, comp_j in enumerate(compartments):\n",
    "        a += (\n",
    "            k[comp_j] * inner(grad(p[j]), grad(q[j])) \n",
    "            - sum([ T[(comp_i, comp_j)]*(p[i] - p[j])*q[j] for i, comp_i in enumerate(compartments) if i != j])\n",
    "        ) * dx\n",
    "    return a, None\n",
    "\n",
    "def item_to_idx(list_):\n",
    "    return {\n",
    "        item: idx for idx, item in enumerate(list_)\n",
    "    }\n",
    "\n",
    "def to_xdmf(path, names):\n",
    "    visual = TimeSeriesStorage(\"r\", path)\n",
    "    visual.to_xdmf(names)\n",
    "    visual.close()\n",
    "    \n",
    "    \n",
    "def compute_vectorfields(p: Function):\n",
    "    V = p.function_space()\n",
    "    mesh = V.mesh()\n",
    "    degree = V.ufl_element().degree()\n",
    "    W = VectorFunctionSpace(mesh, \"P\", degree)\n",
    "    return [project(grad(pi), W) for pi in p]"
   ]
  },
  {
   "cell_type": "code",
   "execution_count": 7,
   "id": "3ddd4a26",
   "metadata": {},
   "outputs": [],
   "source": [
    "def solve_multicomartment_pressure(V, domain, compartments, diriclet_boundaries, results_path, parameters):\n",
    "    P = Function(V)\n",
    "    a, _ = pressure_variational_form(P, compartments, parameters)\n",
    "    solve(a == Constant(0.), P, bcs=boundaries) # TODO: Move over to process-boundary function.\n",
    "\n",
    "    results_path = Path(results_path)\n",
    "    \n",
    "    # TODO: Create a storage class for stationary problems\n",
    "    storage = TimeSeriesStorage(\"w\", results_path, V=V, mesh=domain.mesh)\n",
    "    storage.write(P, 0.)\n",
    "    storage.close()\n",
    "    to_xdmf(storage.filepath, compartments)\n",
    "    return P"
   ]
  },
  {
   "cell_type": "code",
   "execution_count": 18,
   "id": "aa5f3119",
   "metadata": {},
   "outputs": [
    {
     "ename": "NameError",
     "evalue": "name 'boundaries' is not defined",
     "output_type": "error",
     "traceback": [
      "\u001b[0;31m---------------------------------------------------------------------------\u001b[0m",
      "\u001b[0;31mNameError\u001b[0m                                 Traceback (most recent call last)",
      "Cell \u001b[0;32mIn [18], line 13\u001b[0m\n\u001b[1;32m      5\u001b[0m compartment_idx_map \u001b[38;5;241m=\u001b[39m item_to_idx(compartments)\n\u001b[1;32m      6\u001b[0m bcs \u001b[38;5;241m=\u001b[39m [\n\u001b[1;32m      7\u001b[0m     DirichletBC(V\u001b[38;5;241m.\u001b[39msub(compartment_idx_map[\u001b[38;5;124m\"\u001b[39m\u001b[38;5;124mpvs_arteries\u001b[39m\u001b[38;5;124m\"\u001b[39m]), Constant(\u001b[38;5;241m1.\u001b[39m), \u001b[38;5;124m\"\u001b[39m\u001b[38;5;124mon_boundary\u001b[39m\u001b[38;5;124m\"\u001b[39m),\n\u001b[1;32m      8\u001b[0m     DirichletBC(V\u001b[38;5;241m.\u001b[39msub(compartment_idx_map[\u001b[38;5;124m\"\u001b[39m\u001b[38;5;124mpvs_veins\u001b[39m\u001b[38;5;124m\"\u001b[39m]), Constant(\u001b[38;5;241m0.\u001b[39m), \u001b[38;5;124m\"\u001b[39m\u001b[38;5;124mon_boundary\u001b[39m\u001b[38;5;124m\"\u001b[39m),\n\u001b[1;32m      9\u001b[0m     DirichletBC(V\u001b[38;5;241m.\u001b[39msub(compartment_idx_map[\u001b[38;5;124m\"\u001b[39m\u001b[38;5;124mecs\u001b[39m\u001b[38;5;124m\"\u001b[39m]), Constant(\u001b[38;5;241m0.75\u001b[39m), \u001b[38;5;124m\"\u001b[39m\u001b[38;5;124mon_boundary\u001b[39m\u001b[38;5;124m\"\u001b[39m),\n\u001b[1;32m     10\u001b[0m \u001b[38;5;66;03m#     DirichletBC(V.sub(compartment_idx_map[\"pvs_capillaries\"]), Constant(0.25), \"on_boundary\"),\u001b[39;00m\n\u001b[1;32m     11\u001b[0m ]\n\u001b[0;32m---> 13\u001b[0m P \u001b[38;5;241m=\u001b[39m \u001b[43msolve_multicomartment_pressure\u001b[49m\u001b[43m(\u001b[49m\u001b[43mV\u001b[49m\u001b[43m,\u001b[49m\u001b[43m \u001b[49m\u001b[43mdomain\u001b[49m\u001b[43m,\u001b[49m\u001b[43m \u001b[49m\u001b[43mcompartments\u001b[49m\u001b[43m,\u001b[49m\u001b[43m \u001b[49m\u001b[43mbcs\u001b[49m\u001b[43m,\u001b[49m\u001b[43m \u001b[49m\u001b[38;5;124;43m\"\u001b[39;49m\u001b[38;5;124;43m../results/multicompratment-testing/\u001b[39;49m\u001b[38;5;124;43m\"\u001b[39;49m\u001b[43m,\u001b[49m\u001b[43m \u001b[49m\u001b[43mparams\u001b[49m\u001b[43m)\u001b[49m\n\u001b[1;32m     14\u001b[0m \u001b[38;5;28;01mfor\u001b[39;00m pi \u001b[38;5;129;01min\u001b[39;00m P:\n\u001b[1;32m     15\u001b[0m     c \u001b[38;5;241m=\u001b[39m plot(pi)\n",
      "Cell \u001b[0;32mIn [7], line 4\u001b[0m, in \u001b[0;36msolve_multicomartment_pressure\u001b[0;34m(V, domain, compartments, diriclet_boundaries, results_path, parameters)\u001b[0m\n\u001b[1;32m      2\u001b[0m P \u001b[38;5;241m=\u001b[39m Function(V)\n\u001b[1;32m      3\u001b[0m a, _ \u001b[38;5;241m=\u001b[39m pressure_variational_form(P, compartments, parameters)\n\u001b[0;32m----> 4\u001b[0m solve(a \u001b[38;5;241m==\u001b[39m Constant(\u001b[38;5;241m0.\u001b[39m), P, bcs\u001b[38;5;241m=\u001b[39m\u001b[43mboundaries\u001b[49m) \u001b[38;5;66;03m# TODO: Move over to process-boundary function.\u001b[39;00m\n\u001b[1;32m      6\u001b[0m results_path \u001b[38;5;241m=\u001b[39m Path(results_path)\n\u001b[1;32m      8\u001b[0m \u001b[38;5;66;03m# TODO: Create a storage class for stationary problems\u001b[39;00m\n",
      "\u001b[0;31mNameError\u001b[0m: name 'boundaries' is not defined"
     ]
    }
   ],
   "source": [
    "P1 = FiniteElement('CG', domain.mesh.ufl_cell(), 1)\n",
    "el = MixedElement([P1]* len(compartments))\n",
    "V = FunctionSpace(domain.mesh, el)\n",
    "\n",
    "compartment_idx_map = item_to_idx(compartments)\n",
    "bcs = [\n",
    "    DirichletBC(V.sub(compartment_idx_map[\"pvs_arteries\"]), Constant(1.), \"on_boundary\"),\n",
    "    DirichletBC(V.sub(compartment_idx_map[\"pvs_veins\"]), Constant(0.), \"on_boundary\"),\n",
    "    DirichletBC(V.sub(compartment_idx_map[\"ecs\"]), Constant(0.75), \"on_boundary\"),\n",
    "#     DirichletBC(V.sub(compartment_idx_map[\"pvs_capillaries\"]), Constant(0.25), \"on_boundary\"),\n",
    "]\n",
    "\n",
    "P = solve_multicomartment_pressure(V, domain, compartments, bcs, \"../results/multicompratment-testing/\", params)\n",
    "for pi in P:\n",
    "    c = plot(pi)\n",
    "    plt.colorbar(c)\n",
    "    plt.show()\n",
    "\n",
    "u = compute_vectorfields(P)\n",
    "\n",
    "for ui in u:\n",
    "    plot(-ui)\n",
    "    plt.show()"
   ]
  },
  {
   "cell_type": "code",
   "execution_count": 9,
   "id": "a86eaa1d",
   "metadata": {},
   "outputs": [],
   "source": [
    "def compute_non_porous_darcy_constants(p, compartments):\n",
    "    return {\n",
    "        i:\n",
    "            darcy_constant(\n",
    "                p[f\"permeability-{x}\"],\n",
    "                p[f\"viscosity-{x}\"],\n",
    "                1.\n",
    "            )\n",
    "        for i, x in enumerate(compartments)\n",
    "    }\n",
    "\n",
    "def get_porosities(p, compartments):\n",
    "    return {\n",
    "        i:\n",
    "            p[f\"porosity-{x}\"]\n",
    "        for i, x in enumerate(compartments)\n",
    "    }\n",
    "\n",
    "def get_diffusion_constants(p, compartments):\n",
    "    return {\n",
    "        i:\n",
    "            p[f\"diffusion_inulin_free-{x}\"]\n",
    "        for i, x in enumerate(compartments)\n",
    "    }"
   ]
  },
  {
   "cell_type": "code",
   "execution_count": 19,
   "id": "ae8a0eb0",
   "metadata": {},
   "outputs": [
    {
     "name": "stdout",
     "output_type": "stream",
     "text": [
      "Object cannot be plotted directly, projecting to piecewise linears.\n"
     ]
    },
    {
     "data": {
      "image/png": "[encoded data removed]",
      "text/plain": [
       "<Figure size 640x480 with 2 Axes>"
      ]
     },
     "metadata": {},
     "output_type": "display_data"
    },
    {
     "name": "stdout",
     "output_type": "stream",
     "text": [
      "Object cannot be plotted directly, projecting to piecewise linears.\n"
     ]
    },
    {
     "data": {
      "image/png": "[encoded data removed]",
      "text/plain": [
       "<Figure size 640x480 with 2 Axes>"
      ]
     },
     "metadata": {},
     "output_type": "display_data"
    },
    {
     "name": "stdout",
     "output_type": "stream",
     "text": [
      "Object cannot be plotted directly, projecting to piecewise linears.\n"
     ]
    },
    {
     "data": {
      "image/png": "[encoded data removed]",
      "text/plain": [
       "<Figure size 640x480 with 2 Axes>"
      ]
     },
     "metadata": {},
     "output_type": "display_data"
    },
    {
     "ename": "NameError",
     "evalue": "name 'solute_variational_form' is not defined",
     "output_type": "error",
     "traceback": [
      "\u001b[0;31m---------------------------------------------------------------------------\u001b[0m",
      "\u001b[0;31mNameError\u001b[0m                                 Traceback (most recent call last)",
      "Cell \u001b[0;32mIn [19], line 11\u001b[0m\n\u001b[1;32m      8\u001b[0m     plt\u001b[38;5;241m.\u001b[39mcolorbar(c)\n\u001b[1;32m      9\u001b[0m     plt\u001b[38;5;241m.\u001b[39mshow()\n\u001b[0;32m---> 11\u001b[0m a, l \u001b[38;5;241m=\u001b[39m \u001b[43msolute_variational_form\u001b[49m(V, c0, P, compartments, params, \u001b[38;5;241m0.1\u001b[39m)\n\u001b[1;32m     13\u001b[0m bcs \u001b[38;5;241m=\u001b[39m []\n\u001b[1;32m     14\u001b[0m bcs \u001b[38;5;241m=\u001b[39m [\n\u001b[1;32m     15\u001b[0m     DirichletBC(V\u001b[38;5;241m.\u001b[39msub(compartment_idx_map[\u001b[38;5;124m\"\u001b[39m\u001b[38;5;124mpvs_arteries\u001b[39m\u001b[38;5;124m\"\u001b[39m]), Constant(\u001b[38;5;241m0.\u001b[39m), \u001b[38;5;124m\"\u001b[39m\u001b[38;5;124mon_boundary\u001b[39m\u001b[38;5;124m\"\u001b[39m),\n\u001b[1;32m     16\u001b[0m     DirichletBC(V\u001b[38;5;241m.\u001b[39msub(compartment_idx_map[\u001b[38;5;124m\"\u001b[39m\u001b[38;5;124mpvs_veins\u001b[39m\u001b[38;5;124m\"\u001b[39m]), Constant(\u001b[38;5;241m0.\u001b[39m), \u001b[38;5;124m\"\u001b[39m\u001b[38;5;124mon_boundary\u001b[39m\u001b[38;5;124m\"\u001b[39m),\n\u001b[1;32m     17\u001b[0m     DirichletBC(V\u001b[38;5;241m.\u001b[39msub(compartment_idx_map[\u001b[38;5;124m\"\u001b[39m\u001b[38;5;124mecs\u001b[39m\u001b[38;5;124m\"\u001b[39m]), Constant(\u001b[38;5;241m0.\u001b[39m), \u001b[38;5;124m\"\u001b[39m\u001b[38;5;124mon_boundary\u001b[39m\u001b[38;5;124m\"\u001b[39m),\n\u001b[1;32m     18\u001b[0m ]\n",
      "\u001b[0;31mNameError\u001b[0m: name 'solute_variational_form' is not defined"
     ]
    }
   ],
   "source": [
    "c_init = Expression(\"exp(-(pow(x[0] - c[0], 2) + pow(x[1]-c[1], 2)) / (length * length))\",\n",
    "                    length=Constant(0.2), c=Constant((0.5, 0.0)), degree=2)\n",
    "\n",
    "c0 = Function(V)\n",
    "assign(c0.sub(0), project(c_init, V.sub(0).collapse()))\n",
    "for c0i in c0:\n",
    "    c = plot(c0i)\n",
    "    plt.colorbar(c)\n",
    "    plt.show()\n",
    "\n",
    "a, l = solute_variational_form(V, c0, P, compartments, params, 0.1)\n",
    "\n",
    "bcs = []\n",
    "bcs = [\n",
    "    DirichletBC(V.sub(compartment_idx_map[\"pvs_arteries\"]), Constant(0.), \"on_boundary\"),\n",
    "    DirichletBC(V.sub(compartment_idx_map[\"pvs_veins\"]), Constant(0.), \"on_boundary\"),\n",
    "    DirichletBC(V.sub(compartment_idx_map[\"ecs\"]), Constant(0.), \"on_boundary\"),\n",
    "]\n",
    "\n",
    "c = Function(V)\n",
    "\n",
    "\n",
    "for i in range(100):\n",
    "    solve(a == l, c, bcs=bcs)\n",
    "    if i % 5 == 0:\n",
    "        print(\"======\")\n",
    "        for ci in c:\n",
    "            col = plot(ci)#, vmin=0, vmax=1)\n",
    "            plt.colorbar(col)\n",
    "            plt.show()\n",
    "        c0.assign(c)"
   ]
  },
  {
   "cell_type": "markdown",
   "id": "9ca06e28",
   "metadata": {},
   "source": [
    "## Graveyard"
   ]
  },
  {
   "cell_type": "raw",
   "id": "3648205a",
   "metadata": {},
   "source": [
    "params = {\n",
    "    \"porosity-pvs_arteries\": 0.02,\n",
    "    \"porosity-pvs_veins\": 0.10,\n",
    "    \"permeability-pvs_arteries\": 0.1,\n",
    "    \"permeability-pvs_veins\": 0.2,\n",
    "    \"viscosity-pvs_arteries\": 0.1,\n",
    "    \"viscosity-pvs_veins\": 0.3,\n",
    "}"
   ]
  },
  {
   "cell_type": "raw",
   "id": "e8c11999",
   "metadata": {},
   "source": [
    "def symmetrize_transfers(parameter_name, parameters):\n",
    "    out = {}\n",
    "    for key, val in parameters.items():\n",
    "        split = key.split(\"-\")\n",
    "        if split[0] == parameter_name and len(split) == 3:\n",
    "            out[f\"{parameter_name}-{split[2]}-{split[1]}\"] = val\n",
    "    return {\n",
    "        **out,\n",
    "        **parameters\n",
    "    }"
   ]
  },
  {
   "cell_type": "raw",
   "id": "1ff9e2bc",
   "metadata": {},
   "source": [
    "class Compartment:\n",
    "    def __init__(self, idx, name, k, S):\n",
    "        kappa = parameters[f\"permeability-{name}\"]\n",
    "        phi = parameters[f\"porosity-{name}\"]\n",
    "        mu = parameters[f\"viscosity-{name}\"]\n",
    "        self.idx = idx\n",
    "        self.name = name\n",
    "#         self.k = k #Constant(kappa / (phi * mu))\n",
    "#         self.S = S #get_interface_parameters = "
   ]
  },
  {
   "cell_type": "code",
   "execution_count": null,
   "id": "52de8b3a",
   "metadata": {},
   "outputs": [],
   "source": [
    "class BaseDiffusionProblem:\n",
    "    def __init__(self, domain, timekeeper, u0, functionspace, boundaries, D=PARAMS[\"diffusion_constant\"]):\n",
    "        self.domain = domain  # Class containing mesh, subdomains and boudnary info\n",
    "        self.boundaries = boundaries\n",
    "        self.time = timekeeper\n",
    "        self.V = functionspace  # Function Space\n",
    "        self.D = D  # Diffusion constant\n",
    "        self.A = None  # Bilinear form, assembled matrix\n",
    "        self.L = None  # Linear from (not assembled)\n",
    "        self.u = None  # Function to hold solutions.\n",
    "        self.u0 = Function(functionspace, name=\"concentration\")  # Function to hold solution at previous timestep.\n",
    "        self.u0.assign(u0)\n",
    "        self.bcs = []  # List of possible DirichletBoundaries\n",
    "\n",
    "    def build_variational_form(self):\n",
    "        u = TrialFunction(self.V)\n",
    "        v = TestFunction(self.V)\n",
    "        a = (u * v + self.time.dt * self.D * inner(grad(u), grad(v))) * dx\n",
    "        self.A = assemble(a)\n",
    "        self.L = self.u0 * v * dx\n",
    "\n",
    "    def init_solver(self):\n",
    "        self.build_variational_form()\n",
    "        self.process_boundaries(self.boundaries)\n",
    "        self.u = Function(self.V, name='concentration')\n",
    "        self.u.assign(self.u0)\n",
    "\n",
    "    def process_boundaries(self, boundaries):\n",
    "        self.bcs = process_dirichlet(self.domain, self.V, boundaries)\n",
    "        self.L += process_boundary_forms(self.domain, self.V, boundaries)\n",
    "\n",
    "    def pre_solve(self):\n",
    "        pass\n",
    "\n",
    "    def solve(self):\n",
    "        b = assemble(self.L)\n",
    "        for bc in self.bcs:\n",
    "            bc.apply(self.A, b)\n",
    "        solve(self.A, self.u.vector(), b)\n",
    "\n",
    "    def post_solve(self):\n",
    "        self.u0.assign(self.u)"
   ]
  }
 ],
 "metadata": {
  "kernelspec": {
   "display_name": "Python 3 (ipykernel)",
   "language": "python",
   "name": "python3"
  },
  "language_info": {
   "codemirror_mode": {
    "name": "ipython",
    "version": 3
   },
   "file_extension": ".py",
   "mimetype": "text/x-python",
   "name": "python",
   "nbconvert_exporter": "python",
   "pygments_lexer": "ipython3",
   "version": "3.10.6"
  }
 },
 "nbformat": 4,
 "nbformat_minor": 5
}
