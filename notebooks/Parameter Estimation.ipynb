{
 "cells": [
  {
   "cell_type": "code",
   "execution_count": 7,
   "id": "c10571ac",
   "metadata": {},
   "outputs": [
    {
     "name": "stdout",
     "output_type": "stream",
     "text": [
      "The autoreload extension is already loaded. To reload it, use:\n",
      "  %reload_ext autoreload\n"
     ]
    }
   ],
   "source": [
    "%load_ext autoreload\n",
    "%autoreload 2"
   ]
  },
  {
   "cell_type": "markdown",
   "id": "b026cdbd",
   "metadata": {},
   "source": [
    "# Parameter Estimation\n",
    "In this notebook I attempt to approach the designation of parameters anew. The main goal is to make clear the source of all parameters, be it from scientific article, or from a computation. The purpose is to make the research more accessible/understandable, as well as ensuring correctness of parameters following a parameter change."
   ]
  },
  {
   "cell_type": "code",
   "execution_count": 18,
   "id": "f26686e0",
   "metadata": {},
   "outputs": [],
   "source": [
    "SHARED_PARAMS = {\n",
    "    \"bbb\": [\n",
    "        (\"arteries\", \"pvs_arteries\"),\n",
    "        (\"capillaries\", \"pvs_capillaries\"),\n",
    "        (\"veins\", \"pvs_veins\")\n",
    "    ],\n",
    "    \"aef\": [\n",
    "        (\"pvs_arteries\", \"ecs\"),\n",
    "        (\"pvs_capillaries\", \"ecs\"),\n",
    "        (\"pvs_veins\", \"ecs\")\n",
    "    ],\n",
    "    \"pvs\": [\"pvs_arteries\", \"pvs_capillaries\", \"pvs_veins\"],\n",
    "    \"csf\": [\"ecs\", \"pvs_arteries\", \"pvs_capillaries\", \"pvs_veins\"],\n",
    "    \"blood\": [\"arteries\", \"capillaries\", \"veins\"],\n",
    "    \"all\": [\"ecs\", \"pvs_arteries\", \"pvs_capillaries\", \"pvs_veins\", \"arteries\", \"capillaries\", \"veins\"]\n",
    "}"
   ]
  },
  {
   "cell_type": "code",
   "execution_count": 19,
   "id": "b3280aa3",
   "metadata": {},
   "outputs": [],
   "source": [
    "def retrieve_aliases(param):\n",
    "    split = param.split(\"-\")\n",
    "    return [word for word in split[1:] if word in SHARED_PARAMS]\n",
    "\n",
    "\n",
    "def unpack_shared_parameters(parameters):\n",
    "    newparameters = {}\n",
    "    for param, value in parameters.items():\n",
    "        aliases = retrieve_aliases(param)\n",
    "        for alias in aliases:\n",
    "            if type(SHARED_PARAMS[alias][0]) == str:\n",
    "                newnames = [param.replace(alias, key) for key in SHARED_PARAMS[alias]]\n",
    "            else:\n",
    "                newnames = [param.replace(alias, \"-\".join(key)) for key in SHARED_PARAMS[alias]]\n",
    "            \n",
    "            for name in newnames:\n",
    "                newparameters[name] = value\n",
    "        \n",
    "        if len(aliases) == 0:\n",
    "            newparameters[param] = value\n",
    "        \n",
    "    return newparameters"
   ]
  },
  {
   "cell_type": "code",
   "execution_count": 20,
   "id": "6a3c5c46",
   "metadata": {},
   "outputs": [],
   "source": [
    "from pint import UnitRegistry\n",
    "from pint import Quantity\n",
    "from multirat.parameters import unpack_shared_parameters\n",
    "\n",
    "ureg = UnitRegistry()\n",
    "\n",
    "mmHg = ureg.mmHg\n",
    "Pa = ureg.Pa\n",
    "mm = ureg.mm\n",
    "s = ureg.s"
   ]
  },
  {
   "cell_type": "code",
   "execution_count": 56,
   "id": "a85f3e34",
   "metadata": {},
   "outputs": [
    {
     "data": {
      "text/html": [
       "1 1/millimeter"
      ],
      "text/latex": [
       "$1\\ \\frac{1}{\\mathrm{millimeter}}$"
      ],
      "text/plain": [
       "1 <Unit('1 / millimeter')>"
      ]
     },
     "execution_count": 56,
     "metadata": {},
     "output_type": "execute_result"
    }
   ],
   "source": [
    "1 / mm"
   ]
  },
  {
   "cell_type": "code",
   "execution_count": 55,
   "id": "4350570b",
   "metadata": {},
   "outputs": [
    {
     "data": {
      "text/plain": [
       "{'brain_volume': 2450.0 <Unit('millimeter ** 3')>,\n",
       " 'pressure_boundary-pvs_arteries': 4.74 <Unit('millimeter_Hg')>,\n",
       " 'pressure_boundary-ecs': 3.74 <Unit('millimeter_Hg')>,\n",
       " 'pressure_boundary-pvs_veins': 3.36 <Unit('millimeter_Hg')>,\n",
       " 'pressure_boundary-arteries': 120.0 <Unit('millimeter_Hg')>,\n",
       " 'pressure_boundary-veins': 7.0 <Unit('millimeter_Hg')>,\n",
       " 'diffusion_free_inulin-all': 2.98 <Unit('millimeter ** 2 / second')>,\n",
       " 'tortuosity-all': 1.7,\n",
       " 'osmotic_pressure-blood': 20.0 <Unit('millimeter_Hg')>,\n",
       " 'permeability_inulin-bbb': 0.0 <Unit('millimeter / second')>,\n",
       " 'porosity-ecs': 0.14,\n",
       " 'vasculature_volume_fraction': 0.0329,\n",
       " 'vasculature_fraction-arteries': 0.2,\n",
       " 'vasculature_fraction-capillaries': 0.1,\n",
       " 'vasculature_fraction-veins': 0.7,\n",
       " 'pvs_volume_fraction': 0.003,\n",
       " 'viscosity-blood': 0.00267 <Unit('pascal * second')>,\n",
       " 'viscosity-csf': 0.0007 <Unit('pascal * second')>,\n",
       " 'permeability-ecs': 2e-11 <Unit('millimeter ** 2')>,\n",
       " 'resistance-ecs': 4.56 <Unit('pascal * second / millimeter ** 2')>}"
      ]
     },
     "execution_count": 55,
     "metadata": {},
     "output_type": "execute_result"
    }
   ],
   "source": [
    "base_parameters = {\n",
    "    # Brain Volume\n",
    "    \"brain_volume\": 2450. * mm**3,\n",
    "    # Pressure boundary parameters\n",
    "    \"pressure_boundary-pvs_arteries\": 4.74 * mmHg,\n",
    "    \"pressure_boundary-ecs\": 3.74 * mmHg,\n",
    "    \"pressure_boundary-pvs_veins\": 3.36 * mmHg,\n",
    "    \"pressure_boundary-arteries\": 120. * mmHg,\n",
    "    \"pressure_boundary-veins\": 7.0 * mmHg,\n",
    "    \"diffusion_free_inulin-all\": 2.98 * mm**2 / s,\n",
    "    \"tortuosity-all\": 1.7,\n",
    "    \"osmotic_pressure-blood\": 20. * mmHg,\n",
    "    \"permeability_inulin-bbb\": 0.0 * mm / s,  # Does not cross the BBB\n",
    "    \"porosity-ecs\": 0.14,\n",
    "    \"vasculature_volume_fraction\": 0.0329,\n",
    "    \"vasculature_fraction-arteries\": 0.2,  #  (Lee et al. 2001)\n",
    "    \"vasculature_fraction-capillaries\": 0.1, # (Lee et al. 2001)\n",
    "    \"vasculature_fraction-veins\": 0.7,  # (Lee et al. 2001)\n",
    "    \"pvs_volume_fraction\":  0.003,  # (Ballerini, et al. 2020)\n",
    "    \"viscosity-blood\": 2.67e-3 * Pa*s,  #  (Guo et al. 2019)\n",
    "    \"viscosity-csf\": 7.0e-4 * Pa*s,  #  (Bloomfield, Johnston, Bilston 1998)\n",
    "    \"permeability-ecs\": 2.0e-11 * mm**2,\n",
    "    \"resistance-ecs\": 4.56 * Pa * s / mm**2,\n",
    "    # Compute more permeabilities\n",
    "    \"hydraulic_conductivity-ecs-arteries\": 9.1e-10 * mm / (Pa * s),\n",
    "    \"hydraulic_conductivity-ecs-capillaries\": 1.0e-10 * mm / (Pa * s),\n",
    "    \"hydraulic_conductivity-ecs-veins\": 2.0e-11 * mm / (Pa * s),\n",
    "    \"surface_volume_ratio-ecs-arteries\": 3. * 1 / mm,   # (Assumed 1/3 of capillary)\n",
    "    \"surface_volume_ratio-ecs-capillaries\": 9. * 1 / mm,  # (Smith and Humphrey 2007)\n",
    "    \"surface_volume_ratio-ecs-veins\": 3. * 1 / mm,  # (Assumed 1/3 of capillary)\n",
    "}\n",
    "\n",
    "base_parameters"
   ]
  },
  {
   "cell_type": "code",
   "execution_count": null,
   "id": "081617ab",
   "metadata": {},
   "outputs": [],
   "source": [
    "# TODO: Derive these parameters properly!\n",
    "# FIX: Check units!\n",
    "cheating_parameters = {\n",
    "    \"transfer-ecs-pvs_arteries\": 2.1932017763179826e-07,\n",
    "    \"transfer-ecs-pvs_capillaries\": 9.976258977745193e-10,\n",
    "    \"transfer-ecs-pvs_veins\": 1.9533203320332029e-07,\n",
    "    \"transfer-pvs_arteries-arteries\": 5.89e-09,\n",
    "    \"transfer-pvs_arteries-pvs_capillaries\": 2.5002500250025003e-08,\n",
    "    \"transfer-pvs_capillaries-capillaries\": 2.98e-09,\n",
    "    \"transfer-pvs_capillaries-pvs_veins\": 2.5002500250025003e-08,\n",
    "    \"transfer-pvs_veins-veins\": 1.26e-10,\n",
    "    \"transfer-arteries-capillaries\": 1.05010501050105e-07,\n",
    "    \"transfer-capillaries-veins\": 5.250525052505252e-07\n",
    "}"
   ]
  },
  {
   "cell_type": "code",
   "execution_count": 34,
   "id": "95fe5b78",
   "metadata": {},
   "outputs": [],
   "source": [
    "def effective_diffusion(D_free, tortuosity):\n",
    "    return D_free / tortuosity**2\n",
    "\n",
    "\n",
    "def get_effective_diffusion(p):\n",
    "    return {\n",
    "        f\"diffusion_eff_inulin-{x}\":\n",
    "            effective_diffusion(\n",
    "                p[f\"diffusion_free_inulin-{x}\"],\n",
    "                p[f\"tortuosity-{x}\"]\n",
    "            )\n",
    "        for x in SHARED_PARAMS[\"all\"] if x in p\n",
    "    }\n",
    "\n",
    "\n",
    "def subnetwork_porosity(network_volume_fraction, subnetwork_fraction):\n",
    "    return network_volume_fraction * subnetwork_fraction\n",
    "\n",
    "\n",
    "def get_vasculature_porosity(p):\n",
    "    return {\n",
    "        f\"porosity-{x}\":\n",
    "            subnetwork_porosity(\n",
    "                p['vasculature_volume_fraction'],\n",
    "                p[f'vasculature_fraction-{x}']\n",
    "            )\n",
    "        for x in SHARED_PARAMS[\"blood\"]\n",
    "    }\n",
    "\n",
    "\n",
    "def get_pvs_porosity(p):\n",
    "    return {\n",
    "        f\"porosity-{x}\":\n",
    "            subnetwork_porosity(\n",
    "                p['pvs_volume_fraction'],\n",
    "                p[f'vasculature_fraction-{x.replace(\"pvs_\", \"\")}']\n",
    "            )\n",
    "        for x in SHARED_PARAMS[\"blood\"]\n",
    "    }"
   ]
  },
  {
   "cell_type": "code",
   "execution_count": 50,
   "id": "0344483c",
   "metadata": {},
   "outputs": [
    {
     "data": {
      "text/plain": [
       "{'porosity-arteries': 0.00658,\n",
       " 'porosity-capillaries': 0.00329,\n",
       " 'porosity-veins': 0.02303}"
      ]
     },
     "execution_count": 50,
     "metadata": {},
     "output_type": "execute_result"
    }
   ],
   "source": [
    "get_vasculature_porosity(base_parameters)"
   ]
  },
  {
   "cell_type": "code",
   "execution_count": 52,
   "id": "97b480af",
   "metadata": {},
   "outputs": [
    {
     "data": {
      "text/plain": [
       "{'brain_volume': 2450.0 <Unit('millimeter ** 3')>,\n",
       " 'pressure_boundary-pvs_arteries': 4.74 <Unit('millimeter_Hg')>,\n",
       " 'pressure_boundary-ecs': 3.74 <Unit('millimeter_Hg')>,\n",
       " 'pressure_boundary-pvs_veins': 3.36 <Unit('millimeter_Hg')>,\n",
       " 'pressure_boundary-arteries': 120.0 <Unit('millimeter_Hg')>,\n",
       " 'pressure_boundary-veins': 7.0 <Unit('millimeter_Hg')>,\n",
       " 'diffusion_free_inulin-ecs': 2.98 <Unit('millimeter ** 2 / second')>,\n",
       " 'diffusion_free_inulin-pvs_arteries': 2.98 <Unit('millimeter ** 2 / second')>,\n",
       " 'diffusion_free_inulin-pvs_capillaries': 2.98 <Unit('millimeter ** 2 / second')>,\n",
       " 'diffusion_free_inulin-pvs_veins': 2.98 <Unit('millimeter ** 2 / second')>,\n",
       " 'diffusion_free_inulin-arteries': 2.98 <Unit('millimeter ** 2 / second')>,\n",
       " 'diffusion_free_inulin-capillaries': 2.98 <Unit('millimeter ** 2 / second')>,\n",
       " 'diffusion_free_inulin-veins': 2.98 <Unit('millimeter ** 2 / second')>,\n",
       " 'tortuosity-ecs': 1.7,\n",
       " 'tortuosity-pvs_arteries': 1.7,\n",
       " 'tortuosity-pvs_capillaries': 1.7,\n",
       " 'tortuosity-pvs_veins': 1.7,\n",
       " 'tortuosity-arteries': 1.7,\n",
       " 'tortuosity-capillaries': 1.7,\n",
       " 'tortuosity-veins': 1.7,\n",
       " 'osmotic_pressure-arteries': 20.0 <Unit('millimeter_Hg')>,\n",
       " 'osmotic_pressure-capillaries': 20.0 <Unit('millimeter_Hg')>,\n",
       " 'osmotic_pressure-veins': 20.0 <Unit('millimeter_Hg')>,\n",
       " 'permeability_inulin-arteries-pvs_arteries': 0.0 <Unit('millimeter / second')>,\n",
       " 'permeability_inulin-capillaries-pvs_capillaries': 0.0 <Unit('millimeter / second')>,\n",
       " 'permeability_inulin-veins-pvs_veins': 0.0 <Unit('millimeter / second')>,\n",
       " 'porosity-ecs': 0.14,\n",
       " 'vasculature_volume_fraction': 0.0329,\n",
       " 'vasculature_fraction-arteries': 0.2,\n",
       " 'vasculature_fraction-capillaries': 0.1,\n",
       " 'vasculature_fraction-veins': 0.7,\n",
       " 'pvs_volume_fraction': 0.003,\n",
       " 'viscosity-arteries': 0.00267 <Unit('pascal * second')>,\n",
       " 'viscosity-capillaries': 0.00267 <Unit('pascal * second')>,\n",
       " 'viscosity-veins': 0.00267 <Unit('pascal * second')>,\n",
       " 'viscosity-ecs': 0.0007 <Unit('pascal * second')>,\n",
       " 'viscosity-pvs_arteries': 0.0007 <Unit('pascal * second')>,\n",
       " 'viscosity-pvs_capillaries': 0.0007 <Unit('pascal * second')>,\n",
       " 'viscosity-pvs_veins': 0.0007 <Unit('pascal * second')>,\n",
       " 'permeability-ecs': 2e-11 <Unit('millimeter ** 2')>}"
      ]
     },
     "execution_count": 52,
     "metadata": {},
     "output_type": "execute_result"
    }
   ],
   "source": [
    "unpacked  = unpack_shared_parameters(base_parameters)\n",
    "unpacked"
   ]
  },
  {
   "cell_type": "markdown",
   "id": "5ab3edc2",
   "metadata": {},
   "source": [
    "## Graveyard"
   ]
  },
  {
   "cell_type": "raw",
   "id": "c61a9391",
   "metadata": {},
   "source": [
    "def parameter_split(param):\n",
    "    return param.split(\"-\")[0], \"-\".join(param.split(\"-\")[1:])\n",
    "\n",
    "def restructure(parameters, *args):\n",
    "    restructured = {}\n",
    "    for param, val in parameters.items():    \n",
    "        p, comp = parameter_split(param)            \n",
    "        if p in args:\n",
    "            if comp in restructured:                \n",
    "                restructured[comp][p] = val\n",
    "            else:\n",
    "                restructured[comp] = {p: val}\n",
    "#     return restructured\n",
    "    \"\"\n",
    "    return {\n",
    "        comp: tuple(p.values()) for comp, p in restructured.items()\n",
    "    }"
   ]
  }
 ],
 "metadata": {
  "kernelspec": {
   "display_name": "Python 3 (ipykernel)",
   "language": "python",
   "name": "python3"
  },
  "language_info": {
   "codemirror_mode": {
    "name": "ipython",
    "version": 3
   },
   "file_extension": ".py",
   "mimetype": "text/x-python",
   "name": "python",
   "nbconvert_exporter": "python",
   "pygments_lexer": "ipython3",
   "version": "3.10.6"
  }
 },
 "nbformat": 4,
 "nbformat_minor": 5
}
