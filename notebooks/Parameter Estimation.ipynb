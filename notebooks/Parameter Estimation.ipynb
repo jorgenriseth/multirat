{
 "cells": [
  {
   "cell_type": "code",
   "execution_count": 6,
   "id": "c10571ac",
   "metadata": {},
   "outputs": [
    {
     "name": "stdout",
     "output_type": "stream",
     "text": [
      "The autoreload extension is already loaded. To reload it, use:\n",
      "  %reload_ext autoreload\n"
     ]
    }
   ],
   "source": [
    "%load_ext autoreload\n",
    "%autoreload 2"
   ]
  },
  {
   "cell_type": "markdown",
   "id": "b026cdbd",
   "metadata": {},
   "source": [
    "# Parameter Estimation\n",
    "In this notebook I attempt to approach the designation of parameters anew. The main goal is to make clear the source of all parameters, be it from scientific article, or from a computation. The purpose is to make the research more accessible/understandable, as well as ensuring correctness of parameters following a parameter change."
   ]
  },
  {
   "cell_type": "code",
   "execution_count": 37,
   "id": "f26686e0",
   "metadata": {},
   "outputs": [],
   "source": [
    "SHARED_PARAMS = {\n",
    "    \"bbb\": [\n",
    "        (\"arteries\", \"pvs_arteries\"),\n",
    "        (\"capillaries\", \"pvs_capillaries\"),\n",
    "        (\"veins\", \"pvs_veins\")\n",
    "    ],\n",
    "    \"aef\": [\n",
    "        (\"pvs_arteries\", \"ecs\"),\n",
    "        (\"pvs_capillaries\", \"ecs\"),\n",
    "        (\"pvs_veins\", \"ecs\")\n",
    "    ],\n",
    "    \"csf\": [\"ecs\", \"pvs_arteries\", \"pvs_capillaries\", \"pvs_veins\"],\n",
    "    \"blood\": [\"arteries\", \"capillaries\", \"veins\"],\n",
    "    \"all\": [\"ecs\", \"pvs_arteries\", \"pvs_capillaries\", \"pvs_veins\", \"arteries\", \"capillaries\", \"veins\"]\n",
    "}"
   ]
  },
  {
   "cell_type": "code",
   "execution_count": 246,
   "id": "b3280aa3",
   "metadata": {},
   "outputs": [],
   "source": [
    "def retrieve_aliases(param):\n",
    "    split = param.split(\"-\")\n",
    "    return [word for word in split[1:] if word in SHARED_PARAMS]\n",
    "\n",
    "\n",
    "def unpack_shared_parameters(parameters):\n",
    "    newparameters = {}\n",
    "    for param, value in parameters.items():\n",
    "        aliases = retrieve_aliases(param)\n",
    "        for alias in aliases:\n",
    "            if type(SHARED_PARAMS[alias][0]) == str:\n",
    "                newnames = [param.replace(alias, key) for key in SHARED_PARAMS[alias]]\n",
    "            else:\n",
    "                newnames = [param.replace(alias, \"-\".join(key)) for key in SHARED_PARAMS[alias]]\n",
    "            \n",
    "            for name in newnames:\n",
    "                newparameters[name] = value\n",
    "        \n",
    "        if len(aliases) == 0:\n",
    "            newparameters[param] = value\n",
    "        \n",
    "    return newparameters"
   ]
  },
  {
   "cell_type": "code",
   "execution_count": 247,
   "id": "6a3c5c46",
   "metadata": {},
   "outputs": [],
   "source": [
    "from pint import UnitRegistry\n",
    "from pint import Quantity\n",
    "from multirat.parameters import unpack_shared_parameters\n",
    "\n",
    "ureg = UnitRegistry()\n",
    "\n",
    "mmHg = ureg.mmHg\n",
    "Pa = ureg.Pa\n",
    "mm = ureg.mm\n",
    "s = ureg.s"
   ]
  },
  {
   "cell_type": "code",
   "execution_count": 263,
   "id": "4350570b",
   "metadata": {},
   "outputs": [
    {
     "data": {
      "text/plain": [
       "{'brain_volume': 2450.0 <Unit('millimeter ** 3')>,\n",
       " 'pressure_boundary-pvs_arteries': 4.74 <Unit('millimeter_Hg')>,\n",
       " 'pressure_boundary-ecs': 3.74 <Unit('millimeter_Hg')>,\n",
       " 'pressure_boundary-pvs_veins': 3.36 <Unit('millimeter_Hg')>,\n",
       " 'pressure_boundary-arteries': 120.0 <Unit('millimeter_Hg')>,\n",
       " 'pressure_boundary-veins': 7.0 <Unit('millimeter_Hg')>,\n",
       " 'diffusion_free_inulin-all': 2.98 <Unit('millimeter ** 2 / second')>,\n",
       " 'tortuosity-all': 1.7,\n",
       " 'osmotic_pressure-blood': 20.0 <Unit('millimeter_Hg')>,\n",
       " 'permeability_inulin-bbb': 0.0 <Unit('millimeter / second')>}"
      ]
     },
     "execution_count": 263,
     "metadata": {},
     "output_type": "execute_result"
    }
   ],
   "source": [
    "base_parameters = {\n",
    "    # Brain Volume\n",
    "    \"brain_volume\": 2450. * mm**3,\n",
    "    # Pressure boundary parameters\n",
    "    \"pressure_boundary-pvs_arteries\": 4.74 * mmHg,\n",
    "    \"pressure_boundary-ecs\": 3.74 * mmHg,\n",
    "    \"pressure_boundary-pvs_veins\": 3.36 * mmHg,\n",
    "    \"pressure_boundary-arteries\": 120. * mmHg,\n",
    "    \"pressure_boundary-veins\": 7.0 * mmHg,\n",
    "    # \n",
    "    \"diffusion_free_inulin-all\": 2.98 * mm**2 / s,\n",
    "    \"tortuosity-all\": 1.7,\n",
    "    # Shared parameters\n",
    "    \"osmotic_pressure-blood\": 20. * mmHg,\n",
    "    \"permeability_inulin-bbb\": 0.0 * mm / s,  # Does not cross the BBB\n",
    "}\n",
    "\n",
    "base_parameters"
   ]
  },
  {
   "cell_type": "code",
   "execution_count": 261,
   "id": "95fe5b78",
   "metadata": {},
   "outputs": [],
   "source": [
    "def effective_diffusion(D_free, tortuosity):\n",
    "    return D_free / tortuosity**2\n",
    "\n",
    "\n",
    "def get_effective_diffusion(p):\n",
    "    return {\n",
    "        f\"diffusion_eff_inulin-{x}\":\n",
    "            effective_diffusion(p[f\"diffusion_free_inulin-{x}\"], p[f\"tortuosity-{x}\"]) for x in SHARED_PARAMS[\"all\"]\n",
    "    }"
   ]
  },
  {
   "cell_type": "code",
   "execution_count": 262,
   "id": "6325a1fa",
   "metadata": {},
   "outputs": [
    {
     "data": {
      "text/plain": [
       "{'brain_volume': 2450.0 <Unit('millimeter ** 3')>,\n",
       " 'pressure_boundary-pvs_arteries': 4.74 <Unit('millimeter_Hg')>,\n",
       " 'pressure_boundary-ecs': 3.74 <Unit('millimeter_Hg')>,\n",
       " 'pressure_boundary-pvs_veins': 3.36 <Unit('millimeter_Hg')>,\n",
       " 'pressure_boundary-arteries': 120.0 <Unit('millimeter_Hg')>,\n",
       " 'pressure_boundary-veins': 7.0 <Unit('millimeter_Hg')>,\n",
       " 'diffusion_free_inulin-ecs': 2.98 <Unit('millimeter ** 2 / second')>,\n",
       " 'diffusion_free_inulin-pvs_arteries': 2.98 <Unit('millimeter ** 2 / second')>,\n",
       " 'diffusion_free_inulin-pvs_capillaries': 2.98 <Unit('millimeter ** 2 / second')>,\n",
       " 'diffusion_free_inulin-pvs_veins': 2.98 <Unit('millimeter ** 2 / second')>,\n",
       " 'diffusion_free_inulin-arteries': 2.98 <Unit('millimeter ** 2 / second')>,\n",
       " 'diffusion_free_inulin-capillaries': 2.98 <Unit('millimeter ** 2 / second')>,\n",
       " 'diffusion_free_inulin-veins': 2.98 <Unit('millimeter ** 2 / second')>,\n",
       " 'tortuosity-ecs': 1.7,\n",
       " 'tortuosity-pvs_arteries': 1.7,\n",
       " 'tortuosity-pvs_capillaries': 1.7,\n",
       " 'tortuosity-pvs_veins': 1.7,\n",
       " 'tortuosity-arteries': 1.7,\n",
       " 'tortuosity-capillaries': 1.7,\n",
       " 'tortuosity-veins': 1.7,\n",
       " 'osmotic_pressure-arteries': 20.0 <Unit('millimeter_Hg')>,\n",
       " 'osmotic_pressure-capillaries': 20.0 <Unit('millimeter_Hg')>,\n",
       " 'osmotic_pressure-veins': 20.0 <Unit('millimeter_Hg')>,\n",
       " 'permeability_inulin-arteries-pvs_arteries': 0.0 <Unit('millimeter / second')>,\n",
       " 'permeability_inulin-capillaries-pvs_capillaries': 0.0 <Unit('millimeter / second')>,\n",
       " 'permeability_inulin-veins-pvs_veins': 0.0 <Unit('millimeter / second')>,\n",
       " 'diffusion_eff_inulin-ecs': 1.0311418685121108 <Unit('millimeter ** 2 / second')>,\n",
       " 'diffusion_eff_inulin-pvs_arteries': 1.0311418685121108 <Unit('millimeter ** 2 / second')>,\n",
       " 'diffusion_eff_inulin-pvs_capillaries': 1.0311418685121108 <Unit('millimeter ** 2 / second')>,\n",
       " 'diffusion_eff_inulin-pvs_veins': 1.0311418685121108 <Unit('millimeter ** 2 / second')>,\n",
       " 'diffusion_eff_inulin-arteries': 1.0311418685121108 <Unit('millimeter ** 2 / second')>,\n",
       " 'diffusion_eff_inulin-capillaries': 1.0311418685121108 <Unit('millimeter ** 2 / second')>,\n",
       " 'diffusion_eff_inulin-veins': 1.0311418685121108 <Unit('millimeter ** 2 / second')>}"
      ]
     },
     "execution_count": 262,
     "metadata": {},
     "output_type": "execute_result"
    }
   ],
   "source": [
    "unpacked  = unpack_shared_parameters(base_parameters)\n",
    "\n",
    "derived_parameters = {\n",
    "    **unpacked,\n",
    "    **get_effective_diffusion(unpacked)\n",
    "}\n",
    "derived_parameters"
   ]
  },
  {
   "cell_type": "markdown",
   "id": "5ab3edc2",
   "metadata": {},
   "source": [
    "## Graveyard"
   ]
  },
  {
   "cell_type": "raw",
   "id": "c61a9391",
   "metadata": {},
   "source": [
    "def parameter_split(param):\n",
    "    return param.split(\"-\")[0], \"-\".join(param.split(\"-\")[1:])\n",
    "\n",
    "def restructure(parameters, *args):\n",
    "    restructured = {}\n",
    "    for param, val in parameters.items():    \n",
    "        p, comp = parameter_split(param)            \n",
    "        if p in args:\n",
    "            if comp in restructured:                \n",
    "                restructured[comp][p] = val\n",
    "            else:\n",
    "                restructured[comp] = {p: val}\n",
    "#     return restructured\n",
    "    \"\"\n",
    "    return {\n",
    "        comp: tuple(p.values()) for comp, p in restructured.items()\n",
    "    }"
   ]
  }
 ],
 "metadata": {
  "kernelspec": {
   "display_name": "Python 3 (ipykernel)",
   "language": "python",
   "name": "python3"
  },
  "language_info": {
   "codemirror_mode": {
    "name": "ipython",
    "version": 3
   },
   "file_extension": ".py",
   "mimetype": "text/x-python",
   "name": "python",
   "nbconvert_exporter": "python",
   "pygments_lexer": "ipython3",
   "version": "3.10.6"
  }
 },
 "nbformat": 4,
 "nbformat_minor": 5
}
