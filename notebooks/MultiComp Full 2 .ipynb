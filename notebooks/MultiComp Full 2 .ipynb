{
 "cells": [
  {
   "cell_type": "code",
   "execution_count": 1,
   "id": "f0b16a1c",
   "metadata": {},
   "outputs": [],
   "source": [
    "%load_ext autoreload\n",
    "%autoreload 2"
   ]
  },
  {
   "cell_type": "code",
   "execution_count": 2,
   "id": "d022ca8d",
   "metadata": {},
   "outputs": [],
   "source": [
    "from pathlib import Path\n",
    "\n",
    "from dolfin import *\n",
    "\n",
    "from multirat.base.meshprocessing import Domain\n",
    "from multirat.base.boundary import RobinBoundary, process_boundary_forms, process_dirichlet\n",
    "from multirat.parameters import (\n",
    "    get_base_parameters, compute_parameters, make_dimless, PARAMETER_UNITS,\n",
    "    distribute_subset_parameters, print_quantities, get_interface_parameter)"
   ]
  },
  {
   "cell_type": "code",
   "execution_count": 7,
   "id": "67201929",
   "metadata": {},
   "outputs": [],
   "source": [
    "def create_mesh(n, x0=-1., y0=-1., z0=-1, x1=1., y1=1., z1=1.0):\n",
    "    return Domain(\n",
    "        mesh=BoxMesh(Point(x0, y0, z0), Point(x1, y1, z1), n, n, n),\n",
    "        subdomains=None,\n",
    "        boundaries=None,\n",
    "    )"
   ]
  },
  {
   "cell_type": "code",
   "execution_count": null,
   "id": "5a1b7222",
   "metadata": {},
   "outputs": [],
   "source": [
    "\n",
    "def store_pressure(filename, p, store_xdmf=False):\n",
    "    V = p.function_space()\n",
    "    mesh = V.mesh()\n",
    "    \n",
    "    storage = TimeSeriesStorage(\"w\", filename, mesh=mesh, V=V)\n",
    "    storage.write(p, 0.0)\n",
    "    storage.close()\n",
    "    if store_xdmf:\n",
    "        visual = TimeSeriesStorage(\"r\", storage.filepath)\n",
    "        visual.to_xdmf(compartments)\n",
    "        visual.close()"
   ]
  },
  {
   "cell_type": "code",
   "execution_count": null,
   "id": "e9581ce4",
   "metadata": {},
   "outputs": [],
   "source": [
    "def pressure_functionspace(mesh, degree, compartments):    \n",
    "    P1 = FiniteElement('CG', domain.mesh.ufl_cell(), degree)\n",
    "    el = MixedElement([P1]* len(compartments))\n",
    "    V = FunctionSpace(mesh, el)"
   ]
  },
  {
   "cell_type": "code",
   "execution_count": 25,
   "id": "f0c127ee",
   "metadata": {},
   "outputs": [
    {
     "ename": "NameError",
     "evalue": "name 'L_bdry' is not defined",
     "output_type": "error",
     "traceback": [
      "\u001b[0;31m---------------------------------------------------------------------------\u001b[0m",
      "\u001b[0;31mNameError\u001b[0m                                 Traceback (most recent call last)",
      "Cell \u001b[0;32mIn [25], line 2\u001b[0m\n\u001b[1;32m      1\u001b[0m boundaries \u001b[38;5;241m=\u001b[39m {\n\u001b[0;32m----> 2\u001b[0m     \u001b[38;5;124m\"\u001b[39m\u001b[38;5;124mecs\u001b[39m\u001b[38;5;124m\"\u001b[39m: [RobinBoundary(\u001b[43mL_bdry\u001b[49m[\u001b[38;5;124m\"\u001b[39m\u001b[38;5;124mecs\u001b[39m\u001b[38;5;124m\"\u001b[39m], p_bdry[\u001b[38;5;124m\"\u001b[39m\u001b[38;5;124mecs\u001b[39m\u001b[38;5;124m\"\u001b[39m], \u001b[38;5;124m\"\u001b[39m\u001b[38;5;124meverywhere\u001b[39m\u001b[38;5;124m\"\u001b[39m)],\n\u001b[1;32m      3\u001b[0m     \u001b[38;5;124m\"\u001b[39m\u001b[38;5;124mpvs_arteries\u001b[39m\u001b[38;5;124m\"\u001b[39m: [RobinBoundary(L_bdry[\u001b[38;5;124m\"\u001b[39m\u001b[38;5;124mpvs_arteries\u001b[39m\u001b[38;5;124m\"\u001b[39m], p_bdry[\u001b[38;5;124m\"\u001b[39m\u001b[38;5;124mpvs_arteries\u001b[39m\u001b[38;5;124m\"\u001b[39m], \u001b[38;5;124m\"\u001b[39m\u001b[38;5;124meverywhere\u001b[39m\u001b[38;5;124m\"\u001b[39m)],\n\u001b[1;32m      4\u001b[0m     \u001b[38;5;124m\"\u001b[39m\u001b[38;5;124mpvs_capillaries\u001b[39m\u001b[38;5;124m\"\u001b[39m: [],\n\u001b[1;32m      5\u001b[0m     \u001b[38;5;124m\"\u001b[39m\u001b[38;5;124mpvs_veins\u001b[39m\u001b[38;5;124m\"\u001b[39m: [DirichletBoundary(p_bdry[\u001b[38;5;124m\"\u001b[39m\u001b[38;5;124mpvs_veins\u001b[39m\u001b[38;5;124m\"\u001b[39m], \u001b[38;5;124m\"\u001b[39m\u001b[38;5;124meverywhere\u001b[39m\u001b[38;5;124m\"\u001b[39m)],\n\u001b[1;32m      6\u001b[0m }\n\u001b[1;32m      7\u001b[0m results_path \u001b[38;5;241m=\u001b[39m \u001b[38;5;124m\"\u001b[39m\u001b[38;5;124m../results/pressure\u001b[39m\u001b[38;5;124m\"\u001b[39m\n\u001b[1;32m      8\u001b[0m params \u001b[38;5;241m=\u001b[39m make_dimless(compute_parameters(base), PARAMETER_UNITS)\n",
      "\u001b[0;31mNameError\u001b[0m: name 'L_bdry' is not defined"
     ]
    }
   ],
   "source": [
    "boundaries = {\n",
    "    \"ecs\": [RobinBoundary(L_bdry[\"ecs\"], p_bdry[\"ecs\"], \"everywhere\")],\n",
    "    \"pvs_arteries\": [RobinBoundary(L_bdry[\"pvs_arteries\"], p_bdry[\"pvs_arteries\"], \"everywhere\")],\n",
    "    \"pvs_capillaries\": [],\n",
    "    \"pvs_veins\": [DirichletBoundary(p_bdry[\"pvs_veins\"], \"everywhere\")],\n",
    "}\n",
    "results_path = \"../results/pressure\"\n",
    "params = make_dimless(compute_parameters(base), PARAMETER_UNITS)\n",
    "p = solve_pressure(domain, V, compartments, boundaries, params)\n",
    "\n",
    "\n",
    "\n",
    "def store_pressure(filename, p, compartments, store_xdmf=False):\n",
    "    V = p.function_space()\n",
    "    mesh = V.mesh()\n",
    "    \n",
    "    storage = TimeSeriesStorage(\"w\", filename, mesh=mesh, V=V)\n",
    "    storage.write(p, 0.0)\n",
    "    storage.close()\n",
    "    if store_xdmf:\n",
    "        visual = TimeSeriesStorage(\"r\", storage.filepath)\n",
    "        visual.to_xdmf(compartments)\n",
    "        visual.close()"
   ]
  },
  {
   "cell_type": "code",
   "execution_count": null,
   "id": "6d64dfcb",
   "metadata": {},
   "outputs": [],
   "source": []
  }
 ],
 "metadata": {
  "kernelspec": {
   "display_name": "Python 3 (ipykernel)",
   "language": "python",
   "name": "python3"
  },
  "language_info": {
   "codemirror_mode": {
    "name": "ipython",
    "version": 3
   },
   "file_extension": ".py",
   "mimetype": "text/x-python",
   "name": "python",
   "nbconvert_exporter": "python",
   "pygments_lexer": "ipython3",
   "version": "3.10.6"
  }
 },
 "nbformat": 4,
 "nbformat_minor": 5
}
