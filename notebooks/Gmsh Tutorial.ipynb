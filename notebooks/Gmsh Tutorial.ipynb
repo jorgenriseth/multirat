{
 "cells": [
  {
   "cell_type": "code",
   "execution_count": 39,
   "id": "ab307fc6",
   "metadata": {},
   "outputs": [],
   "source": [
    "%load_ext autoreload\n",
    "%autoreload 2"
   ]
  },
  {
   "cell_type": "code",
   "execution_count": 40,
   "id": "9b6cd935",
   "metadata": {},
   "outputs": [],
   "source": [
    "# import warnings\n",
    "# warnings.filterwarnings(\"ignore\")\n",
    "import gmsh\n",
    "from multirat.meshprocessing import *"
   ]
  },
  {
   "cell_type": "code",
   "execution_count": 53,
   "id": "fca4f454",
   "metadata": {},
   "outputs": [
    {
     "name": "stdout",
     "output_type": "stream",
     "text": [
      "\n"
     ]
    }
   ],
   "source": [
    "mesh = meshio.read(\"mesh.msh\")"
   ]
  },
  {
   "cell_type": "code",
   "execution_count": 51,
   "id": "69a81711",
   "metadata": {},
   "outputs": [
    {
     "data": {
      "text/plain": [
       "<meshio mesh object>\n",
       "  Number of points: 71\n",
       "  Number of cells:\n",
       "    vertex: 1\n",
       "    line: 23\n",
       "    triangle: 117\n",
       "  Cell sets: gmsh:bounding_entities\n",
       "  Point data: gmsh:dim_tags\n",
       "  Cell data: gmsh:geometrical"
      ]
     },
     "execution_count": 51,
     "metadata": {},
     "output_type": "execute_result"
    }
   ],
   "source": [
    "mesh./"
   ]
  }
 ],
 "metadata": {
  "kernelspec": {
   "display_name": "Python 3 (ipykernel)",
   "language": "python",
   "name": "python3"
  },
  "language_info": {
   "codemirror_mode": {
    "name": "ipython",
    "version": 3
   },
   "file_extension": ".py",
   "mimetype": "text/x-python",
   "name": "python",
   "nbconvert_exporter": "python",
   "pygments_lexer": "ipython3",
   "version": "3.11.0"
  }
 },
 "nbformat": 4,
 "nbformat_minor": 5
}
