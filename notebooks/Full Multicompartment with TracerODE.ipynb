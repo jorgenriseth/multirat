{
 "cells": [
  {
   "cell_type": "code",
   "execution_count": 1,
   "id": "3eb528c9",
   "metadata": {},
   "outputs": [],
   "source": [
    "%load_ext autoreload\n",
    "%autoreload 2"
   ]
  },
  {
   "cell_type": "code",
   "execution_count": 2,
   "id": "463f3ee0",
   "metadata": {},
   "outputs": [],
   "source": [
    "from dolfin import (Constant,\n",
    "                    Expression,\n",
    "                    FunctionSpace,\n",
    "                    Function,\n",
    "                    assign,\n",
    "                    DirichletBC)\n",
    "\n",
    "from multirat.boundary import RobinBoundary,DirichletBoundary\n",
    "from multirat.boundary_conditions import (\n",
    "    HomogeneousDirichletBoundary,\n",
    "    TracerConservationBoundary\n",
    ")\n",
    "from multirat.config import *\n",
    "from multirat.parameters import multicompartment_parameters, to_constant, print_quantities\n",
    "from multirat.meshprocessing import hdf2fenics\n",
    "from multirat.multicompartment import (\n",
    "    solve_pressure,\n",
    "    pressure_functionspace,\n",
    "    store_pressure\n",
    ")\n",
    "from multirat.timekeeper import TimeKeeper\n",
    "from multirat.timeseriesstorage import TimeSeriesStorage\n",
    "from multirat.initial_conditions import gaussian_expression\n",
    "from multirat.expressions import sqnorm_cpp_code\n",
    "from multirat.projectors import smoothing_projection"
   ]
  },
  {
   "cell_type": "code",
   "execution_count": 3,
   "id": "b7621598",
   "metadata": {},
   "outputs": [],
   "source": [
    "res = 32\n",
    "compartments = [\"ecs\", \"pvs_arteries\", \"pvs_capillaries\", \"pvs_veins\"]\n",
    "domain = hdf2fenics(f\"{MESH_DIR}/mesh{res}.h5\", pack=True)\n",
    "V = pressure_functionspace(domain.mesh, 1, compartments)\n",
    "\n",
    "\n",
    "params = multicompartment_parameters(compartments)\n",
    "\n",
    "L_pa, L_e  = to_constant(\n",
    "    params[\"hydraulic_conductivity_bdry\"],\n",
    "    \"pvs_arteries\", \"ecs\"\n",
    ")\n",
    "\n",
    "p_pa, p_e, p_pv = to_constant(\n",
    "    params[\"pressure_boundaries\"],\"pvs_arteries\", \"ecs\", \"pvs_veins\"\n",
    ")\n",
    "\n",
    "p_boundaries = {\n",
    "    \"ecs\": [RobinBoundary(L_e, p_e, \"everywhere\")],\n",
    "    \"pvs_arteries\": [RobinBoundary(L_pa, p_pa, \"everywhere\")],\n",
    "    \"pvs_capillaries\": [],\n",
    "    \"pvs_veins\": [DirichletBoundary(p_pv, \"everywhere\")]\n",
    "}\n",
    "\n",
    "p = solve_pressure(domain, V, compartments, p_boundaries, params)\n",
    "store_pressure(\n",
    "    RESULTS_DIR / f\"pressure_{'-'.join(compartments)}\",\n",
    "    p, compartments, store_xdmf=True\n",
    ")"
   ]
  },
  {
   "cell_type": "code",
   "execution_count": 7,
   "id": "03c655d8",
   "metadata": {},
   "outputs": [],
   "source": [
    "W = pressure_functionspace(domain.mesh, 1, compartments)\n",
    "C0 = Function(W)\n",
    "\n",
    "c_boundaries = {\n",
    "    \"ecs\": [DirichletBoundary(Constant(0.0), \"everywhere\")],\n",
    "    \"pvs_arteries\": [DirichletBoundary(Constant(0.0), \"everywhere\")],\n",
    "    \"pvs_capillaries\": [],\n",
    "    \"pvs_veins\": [DirichletBoundary(Constant(0.0), \"everywhere\")]\n",
    "}\n",
    "\n",
    "\n",
    "# Concentration\n",
    "injection_center = (-4.0, 3.0, 2.0)\n",
    "std = 1.0\n",
    "c0_e = gaussian_expression(injection_center, std)\n",
    "c0_e = smoothing_projection(\n",
    "    c0_e,\n",
    "    W.sub(0).collapse(),\n",
    "    [DirichletBC(W.sub(0).collapse(), Constant(0.0), 'on_boundary')],\n",
    "    h1_weight=0.1\n",
    ")\n",
    "\n",
    "C0 = Function(W, name=\"concentration\")\n",
    "assign(C0.sub(0), c0_e)\n",
    "\n",
    "dt = 600.\n",
    "T = 3600.\n",
    "time = TimeKeeper(dt, T)\n",
    "\n",
    "c_path = RESULTS_DIR / f\"concentrations_{'-'.join(compartments)}\"\n",
    "store_pressure(c_path, C0, compartments, True)"
   ]
  }
 ],
 "metadata": {
  "kernelspec": {
   "display_name": "Python 3 (ipykernel)",
   "language": "python",
   "name": "python3"
  },
  "language_info": {
   "codemirror_mode": {
    "name": "ipython",
    "version": 3
   },
   "file_extension": ".py",
   "mimetype": "text/x-python",
   "name": "python",
   "nbconvert_exporter": "python",
   "pygments_lexer": "ipython3",
   "version": "3.11.0"
  }
 },
 "nbformat": 4,
 "nbformat_minor": 5
}
