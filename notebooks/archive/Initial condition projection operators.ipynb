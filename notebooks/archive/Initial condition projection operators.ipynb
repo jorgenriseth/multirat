{
 "cells": [
  {
   "cell_type": "code",
   "execution_count": 1,
   "id": "710aebc7",
   "metadata": {},
   "outputs": [],
   "source": [
    "%load_ext autoreload\n",
    "%autoreload 2"
   ]
  },
  {
   "cell_type": "code",
   "execution_count": 2,
   "id": "fab4d0ab",
   "metadata": {},
   "outputs": [
    {
     "ename": "ModuleNotFoundError",
     "evalue": "No module named 'skallaflow'",
     "output_type": "error",
     "traceback": [
      "\u001b[0;31m---------------------------------------------------------------------------\u001b[0m",
      "\u001b[0;31mModuleNotFoundError\u001b[0m                       Traceback (most recent call last)",
      "\u001b[0;32m/tmp/ipykernel_57440/2795255927.py\u001b[0m in \u001b[0;36m<module>\u001b[0;34m\u001b[0m\n\u001b[1;32m      1\u001b[0m \u001b[0;32mfrom\u001b[0m \u001b[0mdolfin\u001b[0m \u001b[0;32mimport\u001b[0m \u001b[0;34m*\u001b[0m\u001b[0;34m\u001b[0m\u001b[0;34m\u001b[0m\u001b[0m\n\u001b[0;32m----> 2\u001b[0;31m \u001b[0;32mfrom\u001b[0m \u001b[0mskallaflow\u001b[0m \u001b[0;32mimport\u001b[0m \u001b[0;34m*\u001b[0m\u001b[0;34m\u001b[0m\u001b[0;34m\u001b[0m\u001b[0m\n\u001b[0m\u001b[1;32m      3\u001b[0m \u001b[0;32mimport\u001b[0m \u001b[0mskallaflow\u001b[0m \u001b[0;32mas\u001b[0m \u001b[0msf\u001b[0m\u001b[0;34m\u001b[0m\u001b[0;34m\u001b[0m\u001b[0m\n\u001b[1;32m      4\u001b[0m \u001b[0;32mimport\u001b[0m \u001b[0mdolfin\u001b[0m\u001b[0;34m\u001b[0m\u001b[0;34m\u001b[0m\u001b[0m\n\u001b[1;32m      5\u001b[0m \u001b[0;32mimport\u001b[0m \u001b[0mmatplotlib\u001b[0m\u001b[0;34m.\u001b[0m\u001b[0mpyplot\u001b[0m \u001b[0;32mas\u001b[0m \u001b[0mplt\u001b[0m\u001b[0;34m\u001b[0m\u001b[0;34m\u001b[0m\u001b[0m\n",
      "\u001b[0;31mModuleNotFoundError\u001b[0m: No module named 'skallaflow'"
     ]
    }
   ],
   "source": [
    "from dolfin import *\n",
    "from skallaflow import *\n",
    "import skallaflow as sf\n",
    "import dolfin\n",
    "import matplotlib.pyplot as plt"
   ]
  },
  {
   "cell_type": "code",
   "execution_count": 3,
   "id": "c2d5a7fe",
   "metadata": {},
   "outputs": [],
   "source": [
    "mesh = UnitIntervalMesh(30)\n",
    "\n",
    "u0 = Expression(\"exp(-pow(x[0]-0.5, 2)/(0.1))\", degree=2)\n",
    "\n",
    "V = FunctionSpace(mesh, \"CG\", 1)\n",
    "\n",
    "u0 = Expression(\"exp(-pow(x[0]-0.7, 2)/(0.1))\", degree=1)\n",
    "# N = assemble(u0 * Measure('dx', domain=V.mesh()))\n",
    "# u0 = Constant(1 / N) * u0\n",
    "u = sf.AveragingDirichletProjector().project(u0, V)\n",
    "N = assemble(u * dx)\n",
    "sf.rescale_function(u, 1.)\n",
    "\n",
    "\n",
    "plot(u, label=\"projected\")\n",
    "plot(u, label=\"scaled\")\n",
    "plot(u0, mesh=mesh, label=\"expression\")\n",
    "print(\"Before:\", N, \"After: \", assemble(u*dx))\n",
    "plt.gca().set_ylim(0, None, auto=True)\n",
    "plt.legend()\n",
    "plt.show()"
   ]
  }
 ],
 "metadata": {
  "kernelspec": {
   "display_name": "Python [conda env:ratbrain] *",
   "language": "python",
   "name": "conda-env-ratbrain-py"
  },
  "language_info": {
   "codemirror_mode": {
    "name": "ipython",
    "version": 3
   },
   "file_extension": ".py",
   "mimetype": "text/x-python",
   "name": "python",
   "nbconvert_exporter": "python",
   "pygments_lexer": "ipython3",
   "version": "3.9.9"
  }
 },
 "nbformat": 4,
 "nbformat_minor": 5
}
