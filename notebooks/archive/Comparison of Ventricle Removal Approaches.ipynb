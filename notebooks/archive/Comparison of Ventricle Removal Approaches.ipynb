{
 "cells": [
  {
   "cell_type": "code",
   "execution_count": 1,
   "id": "34d1b333",
   "metadata": {},
   "outputs": [],
   "source": [
    "import SVMTK as svmtk\n",
    "from pathlib import Path"
   ]
  },
  {
   "cell_type": "code",
   "execution_count": 2,
   "id": "abd84ee9",
   "metadata": {},
   "outputs": [],
   "source": [
    "def create_ventricle_free_mesh(brain_stl, ventricle_stl, output_mesh, resolution):\n",
    "    # Create svmtk surfaces\n",
    "    brain = svmtk.Surface(brain_stl)\n",
    "    ventricles = svmtk.Surface(ventricle_stl)\n",
    "    \n",
    "    smap = svmtk.SubdomainMap()\n",
    "    smap.add(\"10\", 1)\n",
    "    smap.add(\"01\", 2)\n",
    "    \n",
    "    domain = svmtk.Domain([brain, ventricles], smap)\n",
    "    domain.create_mesh(resolution)\n",
    "    \n",
    "    domain.remove_subdomain(2)\n",
    "    \n",
    "    print(\"Saving mesh at \", Path(output_mesh).resolve())\n",
    "    domain.save(str(Path(output_mesh).resolve()))\n",
    "    \n",
    "\n",
    "def svmtk_stl_to_mesh(infile_stl, outfile_mesh, resolution):\n",
    "    all_surf = svmtk.Surface(infile_stl)\n",
    "\n",
    "    domain = svmtk.Domain(all_surf)\n",
    "    domain.create_mesh(resolution)\n",
    "    domain.save(outfile_mesh)"
   ]
  },
  {
   "cell_type": "code",
   "execution_count": 3,
   "id": "3a8f6039",
   "metadata": {},
   "outputs": [
    {
     "name": "stdout",
     "output_type": "stream",
     "text": [
      "\n",
      "0 holes have been filled\n",
      "Cell size: 1.25823\n",
      "Start meshing\n",
      "Number of isolated vertices removed: 25\n",
      "Done meshing\n",
      "Number of isolated vertices removed: 28\n",
      "Number of removed subdomain cells : 4279\n",
      "Saving mesh at  /home/jorgen/ratbrain/mridata/svmtk-mesh-files/ratbrain-no-ventricles.mesh\n",
      "\n",
      "0 holes have been filled\n",
      "Cell size: 1.25823\n",
      "Start meshing\n",
      "Number of isolated vertices removed: 22\n",
      "Done meshing\n"
     ]
    }
   ],
   "source": [
    "brainstl = \"../mridata/stls/brainventriclemerge_Brain.stl\"\n",
    "ventriclestl = \"../mridata/stls/brainventriclemerge_Ventricles.stl\"\n",
    "output_file_no_ventricles = \"../mridata/svmtk-mesh-files/ratbrain-no-ventricles.mesh\"\n",
    "output_file = \"../mridata/svmtk-mesh-files/ratbrain.mesh\"\n",
    "\n",
    "res = 16\n",
    "create_ventricle_free_mesh(brainstl, ventriclestl, output_file_no_ventricles, resolution=res)\n",
    "svmtk_stl_to_mesh(brainstl, output_file, resolution=res)"
   ]
  },
  {
   "cell_type": "markdown",
   "id": "7de18649",
   "metadata": {},
   "source": [
    "1. Create .mesh-file both using the `create_ventricle_free_mesh`-function, and the , and `smtk_stl_to_mesh`, with resolution 16.\n",
    "1. Create one xdmfdir per meshfile.\n",
    "1. Run `convert_to_dolfin_mesh` on both meshfiles with the corresponding svmtk-meshes.\n",
    "1. Visualize the two meshes side by side in paraview."
   ]
  },
  {
   "cell_type": "markdown",
   "id": "fe69516f",
   "metadata": {},
   "source": [
    "Comparison of the two functions with resolution 16. (Left) Without ventricles subdomain removal. (Right) with ventricle removal. "
   ]
  },
  {
   "cell_type": "markdown",
   "id": "75be30f2",
   "metadata": {},
   "source": [
    "![Comparison 1](../visualization/svmtk-remove-ventricles-comparison1.png)\n",
    "![Comparison 2](../visualization/svmtk-remove-ventricles-comparison2.png)"
   ]
  },
  {
   "cell_type": "markdown",
   "id": "8f4b5781",
   "metadata": {},
   "source": [
    "## Conclusion\n",
    "There does not seem to be an obvious advantage of using one approach over the other. It seems the ventricle removal-approach preserves more of the ventricles, but both cases suffer of some asymmetry-problems, where the ventricles in one side of the brain are preserved, but not in the other. "
   ]
  },
  {
   "cell_type": "markdown",
   "id": "37e82e73",
   "metadata": {},
   "source": [
    "### Scratchpad"
   ]
  },
  {
   "cell_type": "raw",
   "id": "8981a7af",
   "metadata": {},
   "source": [
    "%load_ext autoreload\n",
    "%autoreload 2\n",
    "\n",
    "import SVMTK as svmtk\n",
    "from pathlib import Path\n",
    "import skallaflow as sf\n",
    "\n",
    "brainstl = \"../mridata/stls/brainventriclemerge_Brain.stl\"\n",
    "ventriclestl = \"../mridata/stls/brainventriclemerge_Ventricles.stl\"\n",
    "res = 16\n",
    "\n",
    "?sf.stl2hdf\n",
    "\n",
    "smap = svmtk.SubdomainMap()\n",
    "smap.add(\"10\", 1)\n",
    "smap.add(\"01\", 2)\n",
    "\n",
    "\n",
    "sf.stl2hdf([brainstl, ventriclestl], \"../testmesh.h5\", res)\n",
    "\n",
    "?svmtk.Domain\n",
    "\n",
    "mesh, subdomain, boundaries = sf.hdf2fenics(\"../testmesh.h5\")\n",
    "\n",
    "mesh"
   ]
  },
  {
   "cell_type": "raw",
   "id": "8319ab80",
   "metadata": {},
   "source": [
    "meshfile = \"../mesh/mesh8.h5\"\n",
    "\n",
    "# Load domain\n",
    "domain = sf.hdf2fenics(meshfile, True)\n",
    "mesh = domain.mesh\n",
    "\n",
    "print('Volume (mm^3):', assemble(1. * Measure('dx', domain=mesh)))\n",
    "print('Surface Area (mm^2):', assemble(1. * Measure('ds', domain=mesh)))\n",
    "\n",
    "meshfile = \"../mesh32.h5\"\n",
    "(mesh, *_) = sf.hdf2fenics(meshfile, False)\n",
    "mesh = Mesh()\n",
    "with HDF5File(mesh.mpi_comm(), str(meshfile), \"r\") as hdf:\n",
    "    hdf.read(mesh, \"/mesh\", False)\n",
    "    boundaries = MeshFunction(\"size_t\", mesh, 2)\n",
    "\n",
    "print('Volume (mm^3):', assemble(1. * Measure('dx', domain=mesh)))\n",
    "print('Surface Area (mm^2):', assemble(1. * Measure('ds', domain=mesh)))"
   ]
  }
 ],
 "metadata": {
  "kernelspec": {
   "display_name": "Python [conda env:ratbrain] *",
   "language": "python",
   "name": "conda-env-ratbrain-py"
  },
  "language_info": {
   "codemirror_mode": {
    "name": "ipython",
    "version": 3
   },
   "file_extension": ".py",
   "mimetype": "text/x-python",
   "name": "python",
   "nbconvert_exporter": "python",
   "pygments_lexer": "ipython3",
   "version": "3.9.9"
  }
 },
 "nbformat": 4,
 "nbformat_minor": 5
}
