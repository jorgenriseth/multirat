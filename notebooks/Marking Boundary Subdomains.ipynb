{
 "cells": [
  {
   "cell_type": "code",
   "execution_count": 1,
   "id": "c9548568",
   "metadata": {},
   "outputs": [],
   "source": [
    "%load_ext autoreload\n",
    "%autoreload 2"
   ]
  },
  {
   "cell_type": "code",
   "execution_count": 2,
   "id": "639b931b",
   "metadata": {},
   "outputs": [],
   "source": [
    "from pathlib import Path\n",
    "import SVMTK\n",
    "\n",
    "from multirat.meshprocessing import stl2hdf"
   ]
  },
  {
   "cell_type": "code",
   "execution_count": 3,
   "id": "d57d18a0",
   "metadata": {},
   "outputs": [],
   "source": [
    "# Parse paths\n",
    "stldir = \"../mesh/stl-files-new/\"\n",
    "meshdir = \"../meshtest/\"\n",
    "\n",
    "inputdir = Path(stldir).resolve()\n",
    "outputdir = Path(meshdir).resolve()"
   ]
  },
  {
   "cell_type": "code",
   "execution_count": 7,
   "id": "26f7b588",
   "metadata": {},
   "outputs": [
    {
     "name": "stdout",
     "output_type": "stream",
     "text": [
      "\n",
      "Creating tagged mesh with resolution 64.\n",
      "Intermediate files stored in:  /home/jorgen/programs/Dropbox (Simula)/code/multirat/meshtest\n",
      "\n",
      "0 holes have been filled\n",
      "\n",
      "0 holes have been filled\n",
      "Cell size: 0.299013\n",
      "Start meshing\n",
      "Number of isolated vertices removed: 4\n",
      "Done meshing\n",
      "Number of isolated vertices removed: 2386\n",
      "Number of removed subdomain cells : 59589\n",
      "/home/jorgen/programs/Dropbox (Simula)/code/multirat/meshtest\n"
     ]
    }
   ],
   "source": [
    "surfaces = [inputdir / x for x in [\"brain.stl\", \"ventricles.stl\", \"spinal_bdry.stl\"]]\n",
    "\n",
    "# Define subdomains\n",
    "smap = SVMTK.SubdomainMap()\n",
    "smap.add(\"100\", 1)  # Brain matter\n",
    "smap.add(\"010\", 2)  # Ventricles\n",
    "smap.add(\"001\", 3)  # Spinal Boundary\n",
    "smap.add(\"110\", 2)  # Possible overlap between the two are labelled as ventricles.\n",
    "smap.add(\"101\", 3)  # Overlap brain/spinal bdry labelled as spinal bdry\n",
    "smap.add(\"011\", 3)  # Overlap ventricles/spinal bdry labelled as spinal bdry\n",
    "smap.add(\"111\", 3)\n",
    "\n",
    "for res in [64]:\n",
    "    print()\n",
    "    print(f\"Creating tagged mesh with resolution {res}.\")\n",
    "    output = outputdir / f\"mesh-tagged{res}.h5\"\n",
    "    stl2hdf(surfaces, output, res, subdomain_map=smap, remove_subdomains=[2, 3], tmpdir=outputdir)"
   ]
  },
  {
   "cell_type": "code",
   "execution_count": 4,
   "id": "ff6fda9b",
   "metadata": {},
   "outputs": [],
   "source": [
    "import meshio"
   ]
  },
  {
   "cell_type": "code",
   "execution_count": 11,
   "id": "acadffc4",
   "metadata": {},
   "outputs": [
    {
     "ename": "ValueError",
     "evalue": "len(points) = 102830, but len(point_data[\"obj:vn\"]) = 1029247",
     "output_type": "error",
     "traceback": [
      "\u001b[0;31m---------------------------------------------------------------------------\u001b[0m",
      "\u001b[0;31mValueError\u001b[0m                                Traceback (most recent call last)",
      "Cell \u001b[0;32mIn [11], line 1\u001b[0m\n\u001b[0;32m----> 1\u001b[0m mesh \u001b[38;5;241m=\u001b[39m \u001b[43mmeshio\u001b[49m\u001b[38;5;241;43m.\u001b[39;49m\u001b[43mread\u001b[49m\u001b[43m(\u001b[49m\u001b[38;5;124;43m\"\u001b[39;49m\u001b[38;5;124;43m../meshtest/boundaries.obj\u001b[39;49m\u001b[38;5;124;43m\"\u001b[39;49m\u001b[43m)\u001b[49m\n",
      "File \u001b[0;32m~/programs/miniconda3/envs/multirat/lib/python3.11/site-packages/meshio/_helpers.py:71\u001b[0m, in \u001b[0;36mread\u001b[0;34m(filename, file_format)\u001b[0m\n\u001b[1;32m     68\u001b[0m \u001b[38;5;28;01mif\u001b[39;00m is_buffer(filename, \u001b[38;5;124m\"\u001b[39m\u001b[38;5;124mr\u001b[39m\u001b[38;5;124m\"\u001b[39m):\n\u001b[1;32m     69\u001b[0m     \u001b[38;5;28;01mreturn\u001b[39;00m _read_buffer(filename, file_format)\n\u001b[0;32m---> 71\u001b[0m \u001b[38;5;28;01mreturn\u001b[39;00m \u001b[43m_read_file\u001b[49m\u001b[43m(\u001b[49m\u001b[43mPath\u001b[49m\u001b[43m(\u001b[49m\u001b[43mfilename\u001b[49m\u001b[43m)\u001b[49m\u001b[43m,\u001b[49m\u001b[43m \u001b[49m\u001b[43mfile_format\u001b[49m\u001b[43m)\u001b[49m\n",
      "File \u001b[0;32m~/programs/miniconda3/envs/multirat/lib/python3.11/site-packages/meshio/_helpers.py:103\u001b[0m, in \u001b[0;36m_read_file\u001b[0;34m(path, file_format)\u001b[0m\n\u001b[1;32m    100\u001b[0m     \u001b[38;5;28;01mraise\u001b[39;00m ReadError(\u001b[38;5;124mf\u001b[39m\u001b[38;5;124m\"\u001b[39m\u001b[38;5;124mUnknown file format \u001b[39m\u001b[38;5;124m'\u001b[39m\u001b[38;5;132;01m{\u001b[39;00mfile_format\u001b[38;5;132;01m}\u001b[39;00m\u001b[38;5;124m'\u001b[39m\u001b[38;5;124m of \u001b[39m\u001b[38;5;124m'\u001b[39m\u001b[38;5;132;01m{\u001b[39;00mpath\u001b[38;5;132;01m}\u001b[39;00m\u001b[38;5;124m'\u001b[39m\u001b[38;5;124m.\u001b[39m\u001b[38;5;124m\"\u001b[39m)\n\u001b[1;32m    102\u001b[0m \u001b[38;5;28;01mtry\u001b[39;00m:\n\u001b[0;32m--> 103\u001b[0m     \u001b[38;5;28;01mreturn\u001b[39;00m \u001b[43mreader_map\u001b[49m\u001b[43m[\u001b[49m\u001b[43mfile_format\u001b[49m\u001b[43m]\u001b[49m\u001b[43m(\u001b[49m\u001b[38;5;28;43mstr\u001b[39;49m\u001b[43m(\u001b[49m\u001b[43mpath\u001b[49m\u001b[43m)\u001b[49m\u001b[43m)\u001b[49m\n\u001b[1;32m    104\u001b[0m \u001b[38;5;28;01mexcept\u001b[39;00m ReadError \u001b[38;5;28;01mas\u001b[39;00m e:\n\u001b[1;32m    105\u001b[0m     \u001b[38;5;28mprint\u001b[39m(e)\n",
      "File \u001b[0;32m~/programs/miniconda3/envs/multirat/lib/python3.11/site-packages/meshio/obj/_obj.py:18\u001b[0m, in \u001b[0;36mread\u001b[0;34m(filename)\u001b[0m\n\u001b[1;32m     16\u001b[0m \u001b[38;5;28;01mdef\u001b[39;00m \u001b[38;5;21mread\u001b[39m(filename):\n\u001b[1;32m     17\u001b[0m     \u001b[38;5;28;01mwith\u001b[39;00m open_file(filename, \u001b[38;5;124m\"\u001b[39m\u001b[38;5;124mr\u001b[39m\u001b[38;5;124m\"\u001b[39m) \u001b[38;5;28;01mas\u001b[39;00m f:\n\u001b[0;32m---> 18\u001b[0m         mesh \u001b[38;5;241m=\u001b[39m \u001b[43mread_buffer\u001b[49m\u001b[43m(\u001b[49m\u001b[43mf\u001b[49m\u001b[43m)\u001b[49m\n\u001b[1;32m     19\u001b[0m     \u001b[38;5;28;01mreturn\u001b[39;00m mesh\n",
      "File \u001b[0;32m~/programs/miniconda3/envs/multirat/lib/python3.11/site-packages/meshio/obj/_obj.py:98\u001b[0m, in \u001b[0;36mread_buffer\u001b[0;34m(f)\u001b[0m\n\u001b[1;32m     95\u001b[0m         cells\u001b[38;5;241m.\u001b[39mappend(CellBlock(\u001b[38;5;124m\"\u001b[39m\u001b[38;5;124mpolygon\u001b[39m\u001b[38;5;124m\"\u001b[39m, f \u001b[38;5;241m-\u001b[39m \u001b[38;5;241m1\u001b[39m))\n\u001b[1;32m     96\u001b[0m     cell_data[\u001b[38;5;124m\"\u001b[39m\u001b[38;5;124mobj:group_ids\u001b[39m\u001b[38;5;124m\"\u001b[39m]\u001b[38;5;241m.\u001b[39mappend(gid)\n\u001b[0;32m---> 98\u001b[0m \u001b[38;5;28;01mreturn\u001b[39;00m \u001b[43mMesh\u001b[49m\u001b[43m(\u001b[49m\u001b[43mpoints\u001b[49m\u001b[43m,\u001b[49m\u001b[43m \u001b[49m\u001b[43mcells\u001b[49m\u001b[43m,\u001b[49m\u001b[43m \u001b[49m\u001b[43mpoint_data\u001b[49m\u001b[38;5;241;43m=\u001b[39;49m\u001b[43mpoint_data\u001b[49m\u001b[43m,\u001b[49m\u001b[43m \u001b[49m\u001b[43mcell_data\u001b[49m\u001b[38;5;241;43m=\u001b[39;49m\u001b[43mcell_data\u001b[49m\u001b[43m)\u001b[49m\n",
      "File \u001b[0;32m~/programs/miniconda3/envs/multirat/lib/python3.11/site-packages/meshio/_mesh.py:166\u001b[0m, in \u001b[0;36mMesh.__init__\u001b[0;34m(self, points, cells, point_data, cell_data, field_data, point_sets, cell_sets, gmsh_periodic, info)\u001b[0m\n\u001b[1;32m    164\u001b[0m     \u001b[38;5;28mself\u001b[39m\u001b[38;5;241m.\u001b[39mpoint_data[key] \u001b[38;5;241m=\u001b[39m np\u001b[38;5;241m.\u001b[39masarray(item)\n\u001b[1;32m    165\u001b[0m     \u001b[38;5;28;01mif\u001b[39;00m \u001b[38;5;28mlen\u001b[39m(\u001b[38;5;28mself\u001b[39m\u001b[38;5;241m.\u001b[39mpoint_data[key]) \u001b[38;5;241m!=\u001b[39m \u001b[38;5;28mlen\u001b[39m(\u001b[38;5;28mself\u001b[39m\u001b[38;5;241m.\u001b[39mpoints):\n\u001b[0;32m--> 166\u001b[0m         \u001b[38;5;28;01mraise\u001b[39;00m \u001b[38;5;167;01mValueError\u001b[39;00m(\n\u001b[1;32m    167\u001b[0m             \u001b[38;5;124mf\u001b[39m\u001b[38;5;124m\"\u001b[39m\u001b[38;5;124mlen(points) = \u001b[39m\u001b[38;5;132;01m{\u001b[39;00m\u001b[38;5;28mlen\u001b[39m(\u001b[38;5;28mself\u001b[39m\u001b[38;5;241m.\u001b[39mpoints)\u001b[38;5;132;01m}\u001b[39;00m\u001b[38;5;124m, \u001b[39m\u001b[38;5;124m\"\u001b[39m\n\u001b[1;32m    168\u001b[0m             \u001b[38;5;124mf\u001b[39m\u001b[38;5;124m'\u001b[39m\u001b[38;5;124mbut len(point_data[\u001b[39m\u001b[38;5;124m\"\u001b[39m\u001b[38;5;132;01m{\u001b[39;00mkey\u001b[38;5;132;01m}\u001b[39;00m\u001b[38;5;124m\"\u001b[39m\u001b[38;5;124m]) = \u001b[39m\u001b[38;5;132;01m{\u001b[39;00m\u001b[38;5;28mlen\u001b[39m(\u001b[38;5;28mself\u001b[39m\u001b[38;5;241m.\u001b[39mpoint_data[key])\u001b[38;5;132;01m}\u001b[39;00m\u001b[38;5;124m'\u001b[39m\n\u001b[1;32m    169\u001b[0m         )\n\u001b[1;32m    171\u001b[0m \u001b[38;5;66;03m# assert cell data consistency and convert to numpy arrays\u001b[39;00m\n\u001b[1;32m    172\u001b[0m \u001b[38;5;28;01mfor\u001b[39;00m key, data \u001b[38;5;129;01min\u001b[39;00m \u001b[38;5;28mself\u001b[39m\u001b[38;5;241m.\u001b[39mcell_data\u001b[38;5;241m.\u001b[39mitems():\n",
      "\u001b[0;31mValueError\u001b[0m: len(points) = 102830, but len(point_data[\"obj:vn\"]) = 1029247"
     ]
    }
   ],
   "source": [
    "mesh = meshio.read(\"../meshtest/boundaries.obj\")"
   ]
  },
  {
   "cell_type": "code",
   "execution_count": null,
   "id": "9f33e489",
   "metadata": {},
   "outputs": [],
   "source": [
    "mesh"
   ]
  },
  {
   "cell_type": "code",
   "execution_count": 10,
   "id": "b915e3aa",
   "metadata": {},
   "outputs": [
    {
     "data": {
      "text/plain": [
       "{'boundaries': [array([0, 4, 0, ..., 0, 0, 0])]}"
      ]
     },
     "execution_count": 10,
     "metadata": {},
     "output_type": "execute_result"
    }
   ],
   "source": [
    "mesh.cell_data"
   ]
  },
  {
   "cell_type": "code",
   "execution_count": 8,
   "id": "dbb2200d",
   "metadata": {},
   "outputs": [],
   "source": [
    "mesh.write(\"../meshtest/boundaries.stl\")"
   ]
  }
 ],
 "metadata": {
  "kernelspec": {
   "display_name": "Python 3 (ipykernel)",
   "language": "python",
   "name": "python3"
  },
  "language_info": {
   "codemirror_mode": {
    "name": "ipython",
    "version": 3
   },
   "file_extension": ".py",
   "mimetype": "text/x-python",
   "name": "python",
   "nbconvert_exporter": "python",
   "pygments_lexer": "ipython3",
   "version": "3.11.0"
  }
 },
 "nbformat": 4,
 "nbformat_minor": 5
}
